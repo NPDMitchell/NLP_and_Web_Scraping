{
 "cells": [
  {
   "cell_type": "code",
   "execution_count": 1,
   "metadata": {},
   "outputs": [],
   "source": [
    "import numpy as np\n",
    "import pandas as pd\n",
    "import string\n",
    "import re\n",
    "import seaborn as sns\n",
    "import matplotlib.pyplot as plt\n",
    "from itertools import product\n",
    "import warnings\n",
    "\n",
    "warnings.filterwarnings('ignore')"
   ]
  },
  {
   "cell_type": "code",
   "execution_count": 2,
   "metadata": {},
   "outputs": [],
   "source": [
    "punc = string.punctuation\n",
    "num = string.digits"
   ]
  },
  {
   "cell_type": "code",
   "execution_count": 3,
   "metadata": {},
   "outputs": [],
   "source": [
    "jobs = pd.read_csv('df_full.csv')"
   ]
  },
  {
   "cell_type": "code",
   "execution_count": 4,
   "metadata": {},
   "outputs": [
    {
     "data": {
      "text/html": [
       "<div>\n",
       "<style scoped>\n",
       "    .dataframe tbody tr th:only-of-type {\n",
       "        vertical-align: middle;\n",
       "    }\n",
       "\n",
       "    .dataframe tbody tr th {\n",
       "        vertical-align: top;\n",
       "    }\n",
       "\n",
       "    .dataframe thead th {\n",
       "        text-align: right;\n",
       "    }\n",
       "</style>\n",
       "<table border=\"1\" class=\"dataframe\">\n",
       "  <thead>\n",
       "    <tr style=\"text-align: right;\">\n",
       "      <th></th>\n",
       "      <th>Title</th>\n",
       "      <th>Company</th>\n",
       "      <th>Location</th>\n",
       "      <th>Pay</th>\n",
       "      <th>Description</th>\n",
       "    </tr>\n",
       "  </thead>\n",
       "  <tbody>\n",
       "    <tr>\n",
       "      <th>0</th>\n",
       "      <td>['Reception/ Administration/High volume Invoic...</td>\n",
       "      <td>['BT Recruitment Pty Ltd']</td>\n",
       "      <td>['Melbourne']</td>\n",
       "      <td>[]</td>\n",
       "      <td>['&lt;div data-automation=\"mobileTemplate\" class=...</td>\n",
       "    </tr>\n",
       "    <tr>\n",
       "      <th>1</th>\n",
       "      <td>['Lead Data Architect']</td>\n",
       "      <td>['ME']</td>\n",
       "      <td>['Melbourne']</td>\n",
       "      <td>[]</td>\n",
       "      <td>['&lt;div data-automation=\"mobileTemplate\" class=...</td>\n",
       "    </tr>\n",
       "    <tr>\n",
       "      <th>2</th>\n",
       "      <td>['Data Analyst']</td>\n",
       "      <td>['Victoria University']</td>\n",
       "      <td>['Melbourne']</td>\n",
       "      <td>[]</td>\n",
       "      <td>['&lt;div data-automation=\"mobileTemplate\" class=...</td>\n",
       "    </tr>\n",
       "    <tr>\n",
       "      <th>3</th>\n",
       "      <td>['Data Wrangling Expert/Asset Performance Anal...</td>\n",
       "      <td>['Peak Services']</td>\n",
       "      <td>['Melbourne']</td>\n",
       "      <td>[]</td>\n",
       "      <td>['&lt;div data-automation=\"mobileTemplate\" class=...</td>\n",
       "    </tr>\n",
       "    <tr>\n",
       "      <th>4</th>\n",
       "      <td>['Data Scientist / Data Analyst']</td>\n",
       "      <td>['Randstad - Technologies']</td>\n",
       "      <td>['Melbourne']</td>\n",
       "      <td>[]</td>\n",
       "      <td>['&lt;div data-automation=\"mobileTemplate\" class=...</td>\n",
       "    </tr>\n",
       "  </tbody>\n",
       "</table>\n",
       "</div>"
      ],
      "text/plain": [
       "                                               Title  \\\n",
       "0  ['Reception/ Administration/High volume Invoic...   \n",
       "1                            ['Lead Data Architect']   \n",
       "2                                   ['Data Analyst']   \n",
       "3  ['Data Wrangling Expert/Asset Performance Anal...   \n",
       "4                  ['Data Scientist / Data Analyst']   \n",
       "\n",
       "                       Company       Location Pay  \\\n",
       "0   ['BT Recruitment Pty Ltd']  ['Melbourne']  []   \n",
       "1                       ['ME']  ['Melbourne']  []   \n",
       "2      ['Victoria University']  ['Melbourne']  []   \n",
       "3            ['Peak Services']  ['Melbourne']  []   \n",
       "4  ['Randstad - Technologies']  ['Melbourne']  []   \n",
       "\n",
       "                                         Description  \n",
       "0  ['<div data-automation=\"mobileTemplate\" class=...  \n",
       "1  ['<div data-automation=\"mobileTemplate\" class=...  \n",
       "2  ['<div data-automation=\"mobileTemplate\" class=...  \n",
       "3  ['<div data-automation=\"mobileTemplate\" class=...  \n",
       "4  ['<div data-automation=\"mobileTemplate\" class=...  "
      ]
     },
     "execution_count": 4,
     "metadata": {},
     "output_type": "execute_result"
    }
   ],
   "source": [
    "jobs.head()"
   ]
  },
  {
   "cell_type": "code",
   "execution_count": 5,
   "metadata": {},
   "outputs": [],
   "source": [
    "jobs = jobs.drop_duplicates(subset=['Title', 'Location', 'Description'], keep=False)"
   ]
  },
  {
   "cell_type": "code",
   "execution_count": 6,
   "metadata": {},
   "outputs": [],
   "source": [
    "jobs.reset_index(inplace=True)"
   ]
  },
  {
   "cell_type": "code",
   "execution_count": 7,
   "metadata": {},
   "outputs": [],
   "source": [
    "jobs.drop(columns='index', axis=1, inplace=True)"
   ]
  },
  {
   "cell_type": "code",
   "execution_count": 8,
   "metadata": {},
   "outputs": [
    {
     "name": "stdout",
     "output_type": "stream",
     "text": [
      "<class 'pandas.core.frame.DataFrame'>\n",
      "RangeIndex: 797 entries, 0 to 796\n",
      "Data columns (total 5 columns):\n",
      "Title          797 non-null object\n",
      "Company        797 non-null object\n",
      "Location       797 non-null object\n",
      "Pay            797 non-null object\n",
      "Description    797 non-null object\n",
      "dtypes: object(5)\n",
      "memory usage: 31.2+ KB\n"
     ]
    }
   ],
   "source": [
    "jobs.info()"
   ]
  },
  {
   "cell_type": "code",
   "execution_count": 9,
   "metadata": {},
   "outputs": [],
   "source": [
    "jobs['Title'] = jobs['Title'].str.strip(punc).str.lower()"
   ]
  },
  {
   "cell_type": "code",
   "execution_count": 10,
   "metadata": {},
   "outputs": [],
   "source": [
    "jobs['Company'] = jobs['Company'].str.strip(punc).str.lower()"
   ]
  },
  {
   "cell_type": "code",
   "execution_count": 11,
   "metadata": {},
   "outputs": [],
   "source": [
    "jobs['Location'] = jobs['Location'].str.strip(punc).str.lower()"
   ]
  },
  {
   "cell_type": "code",
   "execution_count": 12,
   "metadata": {},
   "outputs": [],
   "source": [
    "jobs['Pay'] = jobs['Pay'].str.strip('[]').str.strip(\"''\")"
   ]
  },
  {
   "cell_type": "code",
   "execution_count": 13,
   "metadata": {},
   "outputs": [],
   "source": [
    "jobs['Description'] = jobs['Description'].str.strip(punc).str.strip(num).str.lower()"
   ]
  },
  {
   "cell_type": "code",
   "execution_count": 14,
   "metadata": {},
   "outputs": [],
   "source": [
    "jobs.Pay = jobs.Pay.replace('', np.NaN)"
   ]
  },
  {
   "cell_type": "code",
   "execution_count": 15,
   "metadata": {},
   "outputs": [
    {
     "data": {
      "text/html": [
       "<div>\n",
       "<style scoped>\n",
       "    .dataframe tbody tr th:only-of-type {\n",
       "        vertical-align: middle;\n",
       "    }\n",
       "\n",
       "    .dataframe tbody tr th {\n",
       "        vertical-align: top;\n",
       "    }\n",
       "\n",
       "    .dataframe thead th {\n",
       "        text-align: right;\n",
       "    }\n",
       "</style>\n",
       "<table border=\"1\" class=\"dataframe\">\n",
       "  <thead>\n",
       "    <tr style=\"text-align: right;\">\n",
       "      <th></th>\n",
       "      <th>Title</th>\n",
       "      <th>Company</th>\n",
       "      <th>Location</th>\n",
       "      <th>Pay</th>\n",
       "      <th>Description</th>\n",
       "    </tr>\n",
       "  </thead>\n",
       "  <tbody>\n",
       "    <tr>\n",
       "      <th>0</th>\n",
       "      <td>lead data architect</td>\n",
       "      <td>me</td>\n",
       "      <td>melbourne</td>\n",
       "      <td>NaN</td>\n",
       "      <td>div data-automation=\"mobiletemplate\" class=\"_2...</td>\n",
       "    </tr>\n",
       "    <tr>\n",
       "      <th>1</th>\n",
       "      <td>data wrangling expert/asset performance analyst</td>\n",
       "      <td>peak services</td>\n",
       "      <td>melbourne</td>\n",
       "      <td>NaN</td>\n",
       "      <td>div data-automation=\"mobiletemplate\" class=\"_2...</td>\n",
       "    </tr>\n",
       "    <tr>\n",
       "      <th>2</th>\n",
       "      <td>data scientist / data analyst</td>\n",
       "      <td>randstad - technologies</td>\n",
       "      <td>melbourne</td>\n",
       "      <td>NaN</td>\n",
       "      <td>div data-automation=\"mobiletemplate\" class=\"_2...</td>\n",
       "    </tr>\n",
       "    <tr>\n",
       "      <th>3</th>\n",
       "      <td>data analyst</td>\n",
       "      <td>nab</td>\n",
       "      <td>melbourne</td>\n",
       "      <td>NaN</td>\n",
       "      <td>div data-automation=\"mobiletemplate\" class=\"_2...</td>\n",
       "    </tr>\n",
       "    <tr>\n",
       "      <th>4</th>\n",
       "      <td>analyst chapter lead (cloud and big data</td>\n",
       "      <td>anz</td>\n",
       "      <td>melbourne</td>\n",
       "      <td>NaN</td>\n",
       "      <td>div data-automation=\"mobiletemplate\" class=\"_2...</td>\n",
       "    </tr>\n",
       "  </tbody>\n",
       "</table>\n",
       "</div>"
      ],
      "text/plain": [
       "                                             Title                  Company  \\\n",
       "0                              lead data architect                       me   \n",
       "1  data wrangling expert/asset performance analyst            peak services   \n",
       "2                    data scientist / data analyst  randstad - technologies   \n",
       "3                                     data analyst                      nab   \n",
       "4         analyst chapter lead (cloud and big data                      anz   \n",
       "\n",
       "    Location  Pay                                        Description  \n",
       "0  melbourne  NaN  div data-automation=\"mobiletemplate\" class=\"_2...  \n",
       "1  melbourne  NaN  div data-automation=\"mobiletemplate\" class=\"_2...  \n",
       "2  melbourne  NaN  div data-automation=\"mobiletemplate\" class=\"_2...  \n",
       "3  melbourne  NaN  div data-automation=\"mobiletemplate\" class=\"_2...  \n",
       "4  melbourne  NaN  div data-automation=\"mobiletemplate\" class=\"_2...  "
      ]
     },
     "execution_count": 15,
     "metadata": {},
     "output_type": "execute_result"
    }
   ],
   "source": [
    "jobs.head()"
   ]
  },
  {
   "cell_type": "code",
   "execution_count": 16,
   "metadata": {},
   "outputs": [],
   "source": [
    "def get_salary_hour(x):\n",
    "    if x is np.nan:\n",
    "        return False\n",
    "    elif re.search(\"hour|ph\",x.replace('.', '')):\n",
    "        return True\n",
    "    else:\n",
    "        return False"
   ]
  },
  {
   "cell_type": "code",
   "execution_count": 17,
   "metadata": {},
   "outputs": [],
   "source": [
    "def clean_salary_hour(x):\n",
    "    try :\n",
    "        a = float(re.findall(\"(\\d+[\\,|\\ ]+\\d+)|(\\d+)\", x)[0][1].replace('.', ''))\n",
    "        b = float(re.findall(\"(\\d+[\\,|\\ ]+\\d+)|(\\d+)\", x)[1][1].replace('.', ''))\n",
    "        c = (a + b) / 2\n",
    "        return c * 2080\n",
    "    \n",
    "    \n",
    "    except :\n",
    "        a = float(re.findall(\"(\\d+[\\,|\\ ]+\\d+)|(\\d+)\", x)[0][1].replace('.', ''))\n",
    "        return a * 2080"
   ]
  },
  {
   "cell_type": "code",
   "execution_count": 18,
   "metadata": {},
   "outputs": [],
   "source": [
    "jobs['hour'] = jobs.Pay[jobs.Pay.apply(get_salary_hour)].apply(clean_salary_hour)"
   ]
  },
  {
   "cell_type": "code",
   "execution_count": 19,
   "metadata": {},
   "outputs": [],
   "source": [
    "def get_salary_day(x):\n",
    "    if x is np.nan:\n",
    "        return False\n",
    "    elif re.search(\".*\\d+.*(day)|(pd[^\\w])\",x.replace('.', '')):\n",
    "        return True\n",
    "    else:\n",
    "        return False"
   ]
  },
  {
   "cell_type": "code",
   "execution_count": 20,
   "metadata": {},
   "outputs": [],
   "source": [
    "def clean_salary_day(x):\n",
    "    try :\n",
    "        results = re.findall(\"(\\d+[\\,|\\ |\\.]+\\d+|\\d+)\", x.replace(',',''))\n",
    "        \n",
    "        a = results[0]\n",
    "        b = results[1]\n",
    "\n",
    "        c = (float(a) + float(b) / 2)\n",
    "\n",
    "        return c * 260\n",
    "\n",
    "    except :\n",
    "        results = re.findall(\"(\\d+[\\,|\\ |\\.]+\\d+|\\d+)\", x.replace(',',''))\n",
    "\n",
    "        return float(results[0]) * 260"
   ]
  },
  {
   "cell_type": "code",
   "execution_count": 21,
   "metadata": {},
   "outputs": [],
   "source": [
    "jobs['day'] = jobs.Pay[jobs.Pay.apply(get_salary_day)].map(clean_salary_day)"
   ]
  },
  {
   "cell_type": "code",
   "execution_count": 22,
   "metadata": {},
   "outputs": [],
   "source": [
    "def get_salary_year(x):\n",
    "    if x is np.nan:\n",
    "        return False\n",
    "    elif re.search(\"\\d+(year)|(pa[^\\w])|(annum)\",x.replace('.', '')):\n",
    "        return True\n",
    "    else:\n",
    "        return False"
   ]
  },
  {
   "cell_type": "code",
   "execution_count": 23,
   "metadata": {},
   "outputs": [],
   "source": [
    "def clean_salary_year(x):\n",
    "    try :\n",
    "        results = re.findall(\"(\\d+[\\,|\\ |\\.]+\\d+|\\d+)\", x.replace(',',''))\n",
    "\n",
    "        a = results[0]\n",
    "        b = results[1]\n",
    "\n",
    "        c = (float(a) + float(b) / 2)\n",
    "\n",
    "        if c < 1000:\n",
    "            c = c * 1000\n",
    "        return c\n",
    "\n",
    "    except :\n",
    "        results = re.findall(\"(\\d+[\\,|\\ |\\.]+\\d+|\\d+)\", x.replace(',',''))\n",
    "\n",
    "        return float(results[0])"
   ]
  },
  {
   "cell_type": "code",
   "execution_count": 24,
   "metadata": {},
   "outputs": [],
   "source": [
    "jobs.Pay.loc[749] = '$100k - $130k p.a. + bonus'"
   ]
  },
  {
   "cell_type": "code",
   "execution_count": 25,
   "metadata": {},
   "outputs": [],
   "source": [
    "jobs.Pay.loc[1133] = '$600 - $700 p.d. + including super'"
   ]
  },
  {
   "cell_type": "code",
   "execution_count": 26,
   "metadata": {},
   "outputs": [],
   "source": [
    "jobs['year'] = jobs.Pay[jobs.Pay.apply(get_salary_year)].map(clean_salary_year)"
   ]
  },
  {
   "cell_type": "code",
   "execution_count": 27,
   "metadata": {},
   "outputs": [],
   "source": [
    "jobs['year'].fillna(0, inplace=True)"
   ]
  },
  {
   "cell_type": "code",
   "execution_count": 28,
   "metadata": {},
   "outputs": [],
   "source": [
    "jobs['day'].fillna(0, inplace=True)"
   ]
  },
  {
   "cell_type": "code",
   "execution_count": 29,
   "metadata": {},
   "outputs": [],
   "source": [
    "jobs['hour'].fillna(0, inplace=True)"
   ]
  },
  {
   "cell_type": "code",
   "execution_count": 30,
   "metadata": {},
   "outputs": [],
   "source": [
    "jobs['total_pay'] = jobs.year + jobs.day + jobs.hour"
   ]
  },
  {
   "cell_type": "code",
   "execution_count": 31,
   "metadata": {},
   "outputs": [
    {
     "data": {
      "text/html": [
       "<div>\n",
       "<style scoped>\n",
       "    .dataframe tbody tr th:only-of-type {\n",
       "        vertical-align: middle;\n",
       "    }\n",
       "\n",
       "    .dataframe tbody tr th {\n",
       "        vertical-align: top;\n",
       "    }\n",
       "\n",
       "    .dataframe thead th {\n",
       "        text-align: right;\n",
       "    }\n",
       "</style>\n",
       "<table border=\"1\" class=\"dataframe\">\n",
       "  <thead>\n",
       "    <tr style=\"text-align: right;\">\n",
       "      <th></th>\n",
       "      <th>Title</th>\n",
       "      <th>Company</th>\n",
       "      <th>Location</th>\n",
       "      <th>Pay</th>\n",
       "      <th>Description</th>\n",
       "      <th>hour</th>\n",
       "      <th>day</th>\n",
       "      <th>year</th>\n",
       "      <th>total_pay</th>\n",
       "    </tr>\n",
       "  </thead>\n",
       "  <tbody>\n",
       "    <tr>\n",
       "      <th>0</th>\n",
       "      <td>lead data architect</td>\n",
       "      <td>me</td>\n",
       "      <td>melbourne</td>\n",
       "      <td>NaN</td>\n",
       "      <td>div data-automation=\"mobiletemplate\" class=\"_2...</td>\n",
       "      <td>0.0</td>\n",
       "      <td>0.0</td>\n",
       "      <td>0.0</td>\n",
       "      <td>0.0</td>\n",
       "    </tr>\n",
       "    <tr>\n",
       "      <th>1</th>\n",
       "      <td>data wrangling expert/asset performance analyst</td>\n",
       "      <td>peak services</td>\n",
       "      <td>melbourne</td>\n",
       "      <td>NaN</td>\n",
       "      <td>div data-automation=\"mobiletemplate\" class=\"_2...</td>\n",
       "      <td>0.0</td>\n",
       "      <td>0.0</td>\n",
       "      <td>0.0</td>\n",
       "      <td>0.0</td>\n",
       "    </tr>\n",
       "    <tr>\n",
       "      <th>2</th>\n",
       "      <td>data scientist / data analyst</td>\n",
       "      <td>randstad - technologies</td>\n",
       "      <td>melbourne</td>\n",
       "      <td>NaN</td>\n",
       "      <td>div data-automation=\"mobiletemplate\" class=\"_2...</td>\n",
       "      <td>0.0</td>\n",
       "      <td>0.0</td>\n",
       "      <td>0.0</td>\n",
       "      <td>0.0</td>\n",
       "    </tr>\n",
       "    <tr>\n",
       "      <th>3</th>\n",
       "      <td>data analyst</td>\n",
       "      <td>nab</td>\n",
       "      <td>melbourne</td>\n",
       "      <td>NaN</td>\n",
       "      <td>div data-automation=\"mobiletemplate\" class=\"_2...</td>\n",
       "      <td>0.0</td>\n",
       "      <td>0.0</td>\n",
       "      <td>0.0</td>\n",
       "      <td>0.0</td>\n",
       "    </tr>\n",
       "    <tr>\n",
       "      <th>4</th>\n",
       "      <td>analyst chapter lead (cloud and big data</td>\n",
       "      <td>anz</td>\n",
       "      <td>melbourne</td>\n",
       "      <td>NaN</td>\n",
       "      <td>div data-automation=\"mobiletemplate\" class=\"_2...</td>\n",
       "      <td>0.0</td>\n",
       "      <td>0.0</td>\n",
       "      <td>0.0</td>\n",
       "      <td>0.0</td>\n",
       "    </tr>\n",
       "  </tbody>\n",
       "</table>\n",
       "</div>"
      ],
      "text/plain": [
       "                                             Title                  Company  \\\n",
       "0                              lead data architect                       me   \n",
       "1  data wrangling expert/asset performance analyst            peak services   \n",
       "2                    data scientist / data analyst  randstad - technologies   \n",
       "3                                     data analyst                      nab   \n",
       "4         analyst chapter lead (cloud and big data                      anz   \n",
       "\n",
       "    Location  Pay                                        Description  hour  \\\n",
       "0  melbourne  NaN  div data-automation=\"mobiletemplate\" class=\"_2...   0.0   \n",
       "1  melbourne  NaN  div data-automation=\"mobiletemplate\" class=\"_2...   0.0   \n",
       "2  melbourne  NaN  div data-automation=\"mobiletemplate\" class=\"_2...   0.0   \n",
       "3  melbourne  NaN  div data-automation=\"mobiletemplate\" class=\"_2...   0.0   \n",
       "4  melbourne  NaN  div data-automation=\"mobiletemplate\" class=\"_2...   0.0   \n",
       "\n",
       "   day  year  total_pay  \n",
       "0  0.0   0.0        0.0  \n",
       "1  0.0   0.0        0.0  \n",
       "2  0.0   0.0        0.0  \n",
       "3  0.0   0.0        0.0  \n",
       "4  0.0   0.0        0.0  "
      ]
     },
     "execution_count": 31,
     "metadata": {},
     "output_type": "execute_result"
    }
   ],
   "source": [
    "jobs.head()"
   ]
  },
  {
   "cell_type": "code",
   "execution_count": 32,
   "metadata": {},
   "outputs": [],
   "source": [
    "simple = []\n",
    "for i in jobs.Title:\n",
    "    if 'analyst' in i:\n",
    "        simple.append(\"Analyst\")\n",
    "    elif 'engineer' in i:\n",
    "        simple.append(\"Engineer\")\n",
    "    elif 'scientist' in i:\n",
    "        simple.append(\"Scientist\")\n",
    "    elif 'consultant' in i:\n",
    "        simple.append(\"Consultant\")\n",
    "    else:\n",
    "        simple.append(\"Other\")"
   ]
  },
  {
   "cell_type": "code",
   "execution_count": 33,
   "metadata": {},
   "outputs": [],
   "source": [
    "jobs['Simple_Title'] = simple"
   ]
  },
  {
   "cell_type": "code",
   "execution_count": 34,
   "metadata": {},
   "outputs": [
    {
     "data": {
      "text/html": [
       "<div>\n",
       "<style scoped>\n",
       "    .dataframe tbody tr th:only-of-type {\n",
       "        vertical-align: middle;\n",
       "    }\n",
       "\n",
       "    .dataframe tbody tr th {\n",
       "        vertical-align: top;\n",
       "    }\n",
       "\n",
       "    .dataframe thead th {\n",
       "        text-align: right;\n",
       "    }\n",
       "</style>\n",
       "<table border=\"1\" class=\"dataframe\">\n",
       "  <thead>\n",
       "    <tr style=\"text-align: right;\">\n",
       "      <th></th>\n",
       "      <th>Title</th>\n",
       "      <th>Company</th>\n",
       "      <th>Location</th>\n",
       "      <th>Pay</th>\n",
       "      <th>Description</th>\n",
       "      <th>hour</th>\n",
       "      <th>day</th>\n",
       "      <th>year</th>\n",
       "      <th>total_pay</th>\n",
       "      <th>Simple_Title</th>\n",
       "    </tr>\n",
       "  </thead>\n",
       "  <tbody>\n",
       "    <tr>\n",
       "      <th>0</th>\n",
       "      <td>lead data architect</td>\n",
       "      <td>me</td>\n",
       "      <td>melbourne</td>\n",
       "      <td>NaN</td>\n",
       "      <td>div data-automation=\"mobiletemplate\" class=\"_2...</td>\n",
       "      <td>0.0</td>\n",
       "      <td>0.0</td>\n",
       "      <td>0.0</td>\n",
       "      <td>0.0</td>\n",
       "      <td>Other</td>\n",
       "    </tr>\n",
       "    <tr>\n",
       "      <th>1</th>\n",
       "      <td>data wrangling expert/asset performance analyst</td>\n",
       "      <td>peak services</td>\n",
       "      <td>melbourne</td>\n",
       "      <td>NaN</td>\n",
       "      <td>div data-automation=\"mobiletemplate\" class=\"_2...</td>\n",
       "      <td>0.0</td>\n",
       "      <td>0.0</td>\n",
       "      <td>0.0</td>\n",
       "      <td>0.0</td>\n",
       "      <td>Analyst</td>\n",
       "    </tr>\n",
       "    <tr>\n",
       "      <th>2</th>\n",
       "      <td>data scientist / data analyst</td>\n",
       "      <td>randstad - technologies</td>\n",
       "      <td>melbourne</td>\n",
       "      <td>NaN</td>\n",
       "      <td>div data-automation=\"mobiletemplate\" class=\"_2...</td>\n",
       "      <td>0.0</td>\n",
       "      <td>0.0</td>\n",
       "      <td>0.0</td>\n",
       "      <td>0.0</td>\n",
       "      <td>Analyst</td>\n",
       "    </tr>\n",
       "    <tr>\n",
       "      <th>3</th>\n",
       "      <td>data analyst</td>\n",
       "      <td>nab</td>\n",
       "      <td>melbourne</td>\n",
       "      <td>NaN</td>\n",
       "      <td>div data-automation=\"mobiletemplate\" class=\"_2...</td>\n",
       "      <td>0.0</td>\n",
       "      <td>0.0</td>\n",
       "      <td>0.0</td>\n",
       "      <td>0.0</td>\n",
       "      <td>Analyst</td>\n",
       "    </tr>\n",
       "    <tr>\n",
       "      <th>4</th>\n",
       "      <td>analyst chapter lead (cloud and big data</td>\n",
       "      <td>anz</td>\n",
       "      <td>melbourne</td>\n",
       "      <td>NaN</td>\n",
       "      <td>div data-automation=\"mobiletemplate\" class=\"_2...</td>\n",
       "      <td>0.0</td>\n",
       "      <td>0.0</td>\n",
       "      <td>0.0</td>\n",
       "      <td>0.0</td>\n",
       "      <td>Analyst</td>\n",
       "    </tr>\n",
       "  </tbody>\n",
       "</table>\n",
       "</div>"
      ],
      "text/plain": [
       "                                             Title                  Company  \\\n",
       "0                              lead data architect                       me   \n",
       "1  data wrangling expert/asset performance analyst            peak services   \n",
       "2                    data scientist / data analyst  randstad - technologies   \n",
       "3                                     data analyst                      nab   \n",
       "4         analyst chapter lead (cloud and big data                      anz   \n",
       "\n",
       "    Location  Pay                                        Description  hour  \\\n",
       "0  melbourne  NaN  div data-automation=\"mobiletemplate\" class=\"_2...   0.0   \n",
       "1  melbourne  NaN  div data-automation=\"mobiletemplate\" class=\"_2...   0.0   \n",
       "2  melbourne  NaN  div data-automation=\"mobiletemplate\" class=\"_2...   0.0   \n",
       "3  melbourne  NaN  div data-automation=\"mobiletemplate\" class=\"_2...   0.0   \n",
       "4  melbourne  NaN  div data-automation=\"mobiletemplate\" class=\"_2...   0.0   \n",
       "\n",
       "   day  year  total_pay Simple_Title  \n",
       "0  0.0   0.0        0.0        Other  \n",
       "1  0.0   0.0        0.0      Analyst  \n",
       "2  0.0   0.0        0.0      Analyst  \n",
       "3  0.0   0.0        0.0      Analyst  \n",
       "4  0.0   0.0        0.0      Analyst  "
      ]
     },
     "execution_count": 34,
     "metadata": {},
     "output_type": "execute_result"
    }
   ],
   "source": [
    "jobs.head()"
   ]
  },
  {
   "cell_type": "code",
   "execution_count": 35,
   "metadata": {},
   "outputs": [
    {
     "data": {
      "text/plain": [
       "Analyst       417\n",
       "Other         246\n",
       "Engineer       56\n",
       "Scientist      43\n",
       "Consultant     35\n",
       "Name: Simple_Title, dtype: int64"
      ]
     },
     "execution_count": 35,
     "metadata": {},
     "output_type": "execute_result"
    }
   ],
   "source": [
    "jobs.Simple_Title.value_counts()"
   ]
  },
  {
   "cell_type": "code",
   "execution_count": 36,
   "metadata": {},
   "outputs": [],
   "source": [
    "level = []\n",
    "for i in jobs.Title:\n",
    "    if 'senior' in i:\n",
    "        level.append(\"Senior\")\n",
    "    elif 'junior' in i:\n",
    "        level.append(\"Junior\")\n",
    "    else:\n",
    "        level.append(\"Middle\")"
   ]
  },
  {
   "cell_type": "code",
   "execution_count": 37,
   "metadata": {},
   "outputs": [],
   "source": [
    "jobs['Job_Level'] = level"
   ]
  },
  {
   "cell_type": "code",
   "execution_count": 38,
   "metadata": {},
   "outputs": [
    {
     "data": {
      "text/plain": [
       "Middle    670\n",
       "Senior    112\n",
       "Junior     15\n",
       "Name: Job_Level, dtype: int64"
      ]
     },
     "execution_count": 38,
     "metadata": {},
     "output_type": "execute_result"
    }
   ],
   "source": [
    "jobs.Job_Level.value_counts()"
   ]
  },
  {
   "cell_type": "code",
   "execution_count": 39,
   "metadata": {},
   "outputs": [],
   "source": [
    "no_salary = jobs[jobs.total_pay == 0]"
   ]
  },
  {
   "cell_type": "code",
   "execution_count": 40,
   "metadata": {},
   "outputs": [],
   "source": [
    "salary = jobs[jobs.total_pay != 0]"
   ]
  },
  {
   "cell_type": "code",
   "execution_count": 41,
   "metadata": {},
   "outputs": [
    {
     "name": "stdout",
     "output_type": "stream",
     "text": [
      "797\n"
     ]
    }
   ],
   "source": [
    "print(len(salary) + len(no_salary))"
   ]
  },
  {
   "cell_type": "code",
   "execution_count": 42,
   "metadata": {},
   "outputs": [],
   "source": [
    "for a, b in product(jobs['Simple_Title'].unique(), jobs['Job_Level'].unique()):\n",
    "    missing1, missing2 = no_salary['Simple_Title']==a, salary['Simple_Title']==a\n",
    "    missing3, missing4 = no_salary['Job_Level']==b, salary['Job_Level']==b\n",
    "    no_salary.loc[missing1 & missing3, 'total_pay'] = salary.loc[missing2 & missing4, 'total_pay'].median()"
   ]
  },
  {
   "cell_type": "code",
   "execution_count": 43,
   "metadata": {},
   "outputs": [],
   "source": [
    "jobs = pd.concat([salary, no_salary], )"
   ]
  },
  {
   "cell_type": "code",
   "execution_count": 44,
   "metadata": {},
   "outputs": [],
   "source": [
    "jobs.sort_index(inplace=True)"
   ]
  },
  {
   "cell_type": "code",
   "execution_count": 45,
   "metadata": {},
   "outputs": [],
   "source": [
    "jobs.drop(columns=['Pay', 'hour', 'day', 'year'], axis=1, inplace=True)"
   ]
  },
  {
   "cell_type": "code",
   "execution_count": 46,
   "metadata": {},
   "outputs": [
    {
     "data": {
      "text/html": [
       "<div>\n",
       "<style scoped>\n",
       "    .dataframe tbody tr th:only-of-type {\n",
       "        vertical-align: middle;\n",
       "    }\n",
       "\n",
       "    .dataframe tbody tr th {\n",
       "        vertical-align: top;\n",
       "    }\n",
       "\n",
       "    .dataframe thead th {\n",
       "        text-align: right;\n",
       "    }\n",
       "</style>\n",
       "<table border=\"1\" class=\"dataframe\">\n",
       "  <thead>\n",
       "    <tr style=\"text-align: right;\">\n",
       "      <th></th>\n",
       "      <th>Title</th>\n",
       "      <th>Company</th>\n",
       "      <th>Location</th>\n",
       "      <th>Description</th>\n",
       "      <th>total_pay</th>\n",
       "      <th>Simple_Title</th>\n",
       "      <th>Job_Level</th>\n",
       "    </tr>\n",
       "  </thead>\n",
       "  <tbody>\n",
       "    <tr>\n",
       "      <th>0</th>\n",
       "      <td>lead data architect</td>\n",
       "      <td>me</td>\n",
       "      <td>melbourne</td>\n",
       "      <td>div data-automation=\"mobiletemplate\" class=\"_2...</td>\n",
       "      <td>159750.0</td>\n",
       "      <td>Other</td>\n",
       "      <td>Middle</td>\n",
       "    </tr>\n",
       "    <tr>\n",
       "      <th>1</th>\n",
       "      <td>data wrangling expert/asset performance analyst</td>\n",
       "      <td>peak services</td>\n",
       "      <td>melbourne</td>\n",
       "      <td>div data-automation=\"mobiletemplate\" class=\"_2...</td>\n",
       "      <td>201500.0</td>\n",
       "      <td>Analyst</td>\n",
       "      <td>Middle</td>\n",
       "    </tr>\n",
       "    <tr>\n",
       "      <th>2</th>\n",
       "      <td>data scientist / data analyst</td>\n",
       "      <td>randstad - technologies</td>\n",
       "      <td>melbourne</td>\n",
       "      <td>div data-automation=\"mobiletemplate\" class=\"_2...</td>\n",
       "      <td>201500.0</td>\n",
       "      <td>Analyst</td>\n",
       "      <td>Middle</td>\n",
       "    </tr>\n",
       "    <tr>\n",
       "      <th>3</th>\n",
       "      <td>data analyst</td>\n",
       "      <td>nab</td>\n",
       "      <td>melbourne</td>\n",
       "      <td>div data-automation=\"mobiletemplate\" class=\"_2...</td>\n",
       "      <td>201500.0</td>\n",
       "      <td>Analyst</td>\n",
       "      <td>Middle</td>\n",
       "    </tr>\n",
       "    <tr>\n",
       "      <th>4</th>\n",
       "      <td>analyst chapter lead (cloud and big data</td>\n",
       "      <td>anz</td>\n",
       "      <td>melbourne</td>\n",
       "      <td>div data-automation=\"mobiletemplate\" class=\"_2...</td>\n",
       "      <td>201500.0</td>\n",
       "      <td>Analyst</td>\n",
       "      <td>Middle</td>\n",
       "    </tr>\n",
       "  </tbody>\n",
       "</table>\n",
       "</div>"
      ],
      "text/plain": [
       "                                             Title                  Company  \\\n",
       "0                              lead data architect                       me   \n",
       "1  data wrangling expert/asset performance analyst            peak services   \n",
       "2                    data scientist / data analyst  randstad - technologies   \n",
       "3                                     data analyst                      nab   \n",
       "4         analyst chapter lead (cloud and big data                      anz   \n",
       "\n",
       "    Location                                        Description  total_pay  \\\n",
       "0  melbourne  div data-automation=\"mobiletemplate\" class=\"_2...   159750.0   \n",
       "1  melbourne  div data-automation=\"mobiletemplate\" class=\"_2...   201500.0   \n",
       "2  melbourne  div data-automation=\"mobiletemplate\" class=\"_2...   201500.0   \n",
       "3  melbourne  div data-automation=\"mobiletemplate\" class=\"_2...   201500.0   \n",
       "4  melbourne  div data-automation=\"mobiletemplate\" class=\"_2...   201500.0   \n",
       "\n",
       "  Simple_Title Job_Level  \n",
       "0        Other    Middle  \n",
       "1      Analyst    Middle  \n",
       "2      Analyst    Middle  \n",
       "3      Analyst    Middle  \n",
       "4      Analyst    Middle  "
      ]
     },
     "execution_count": 46,
     "metadata": {},
     "output_type": "execute_result"
    }
   ],
   "source": [
    "jobs.head()"
   ]
  },
  {
   "cell_type": "code",
   "execution_count": 47,
   "metadata": {},
   "outputs": [],
   "source": [
    "jobs.dropna(inplace=True)"
   ]
  },
  {
   "cell_type": "code",
   "execution_count": 48,
   "metadata": {},
   "outputs": [
    {
     "data": {
      "text/plain": [
       "(769, 7)"
      ]
     },
     "execution_count": 48,
     "metadata": {},
     "output_type": "execute_result"
    }
   ],
   "source": [
    "jobs.shape"
   ]
  },
  {
   "cell_type": "code",
   "execution_count": 49,
   "metadata": {},
   "outputs": [],
   "source": [
    "jobs.to_csv('jobs.csv', index=False)"
   ]
  },
  {
   "cell_type": "code",
   "execution_count": 51,
   "metadata": {},
   "outputs": [
    {
     "name": "stdout",
     "output_type": "stream",
     "text": [
      "[159750.   201500.   221000.   312000.   101750.   250250.    27040.\n",
      "  28080.   149500.   197667.25 187500.   215000.   185000.   130000.\n",
      " 180000.   170000.    72800.   253500.   182000.   325000.   145000.\n",
      " 351000.   247000.   124800.   117500.   195000.    97760.    88400.\n",
      " 190000.   182130.   156000.   148550.   208000.   290000.   140000.\n",
      " 260000.    93600.   123500.   214500.   760000.   125000.   227500.\n",
      "  80000.   357500.   286000.   273000.    65520.   144560.   390000.\n",
      " 266500.   204100.   280000.   220000.   167574.5  226200.   165000.\n",
      " 227760.    95060.   950000.  ]\n"
     ]
    }
   ],
   "source": [
    "print(jobs.total_pay.unique())"
   ]
  },
  {
   "cell_type": "code",
   "execution_count": 66,
   "metadata": {},
   "outputs": [],
   "source": [
    "total = []\n",
    "for x in jobs.total_pay:\n",
    "    if x > 400000:\n",
    "        x = x / 10\n",
    "        total.append(x)\n",
    "       \n",
    "    else:\n",
    "        total.append(x)"
   ]
  },
  {
   "cell_type": "code",
   "execution_count": 67,
   "metadata": {},
   "outputs": [],
   "source": [
    "jobs.total_pay = total"
   ]
  },
  {
   "cell_type": "code",
   "execution_count": 74,
   "metadata": {},
   "outputs": [
    {
     "name": "stdout",
     "output_type": "stream",
     "text": [
      "[159750.   201500.   221000.   312000.   101750.   250250.    27040.\n",
      "  28080.   149500.   197667.25 187500.   215000.   185000.   130000.\n",
      " 180000.   170000.    72800.   253500.   182000.   325000.   145000.\n",
      " 351000.   247000.   124800.   117500.   195000.    97760.    88400.\n",
      " 190000.   182130.   156000.   148550.   208000.   290000.   140000.\n",
      " 260000.    93600.   123500.   214500.    76000.   125000.   227500.\n",
      "  80000.   357500.   286000.   273000.    65520.   144560.   390000.\n",
      " 266500.   204100.   280000.   220000.   167574.5  226200.   165000.\n",
      " 227760.    95060.    95000.  ]\n"
     ]
    }
   ],
   "source": [
    "print(jobs.total_pay.unique())"
   ]
  },
  {
   "cell_type": "code",
   "execution_count": 75,
   "metadata": {},
   "outputs": [],
   "source": [
    "jobs.to_csv('job_viz.csv', index=False)"
   ]
  },
  {
   "cell_type": "code",
   "execution_count": null,
   "metadata": {},
   "outputs": [],
   "source": []
  }
 ],
 "metadata": {
  "kernelspec": {
   "display_name": "Python 3",
   "language": "python",
   "name": "python3"
  },
  "language_info": {
   "codemirror_mode": {
    "name": "ipython",
    "version": 3
   },
   "file_extension": ".py",
   "mimetype": "text/x-python",
   "name": "python",
   "nbconvert_exporter": "python",
   "pygments_lexer": "ipython3",
   "version": "3.7.1"
  }
 },
 "nbformat": 4,
 "nbformat_minor": 2
}
