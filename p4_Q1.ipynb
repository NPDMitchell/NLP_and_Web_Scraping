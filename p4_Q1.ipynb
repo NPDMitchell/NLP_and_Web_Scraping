{
 "cells": [
  {
   "cell_type": "code",
   "execution_count": 82,
   "metadata": {},
   "outputs": [],
   "source": [
    "import numpy as np\n",
    "import pandas as pd\n",
    "\n",
    "import re\n",
    "\n",
    "from sklearn.model_selection import train_test_split\n",
    "from sklearn.feature_extraction.text import CountVectorizer, TfidfVectorizer\n",
    "from sklearn.metrics import accuracy_score\n",
    "from sklearn.naive_bayes import MultinomialNB\n",
    "from sklearn.linear_model import LogisticRegression\n",
    "from sklearn.svm import SVC\n",
    "from sklearn.ensemble import RandomForestClassifier\n",
    "from sklearn.metrics import classification_report\n",
    "import warnings\n",
    "warnings.filterwarnings('ignore')"
   ]
  },
  {
   "cell_type": "code",
   "execution_count": 3,
   "metadata": {},
   "outputs": [],
   "source": [
    "jobs = pd.read_csv('jobs.csv')"
   ]
  },
  {
   "cell_type": "code",
   "execution_count": 4,
   "metadata": {},
   "outputs": [
    {
     "data": {
      "text/html": [
       "<div>\n",
       "<style scoped>\n",
       "    .dataframe tbody tr th:only-of-type {\n",
       "        vertical-align: middle;\n",
       "    }\n",
       "\n",
       "    .dataframe tbody tr th {\n",
       "        vertical-align: top;\n",
       "    }\n",
       "\n",
       "    .dataframe thead th {\n",
       "        text-align: right;\n",
       "    }\n",
       "</style>\n",
       "<table border=\"1\" class=\"dataframe\">\n",
       "  <thead>\n",
       "    <tr style=\"text-align: right;\">\n",
       "      <th></th>\n",
       "      <th>Title</th>\n",
       "      <th>Company</th>\n",
       "      <th>Location</th>\n",
       "      <th>Description</th>\n",
       "      <th>total_pay</th>\n",
       "      <th>Simple_Title</th>\n",
       "      <th>Job_Level</th>\n",
       "    </tr>\n",
       "  </thead>\n",
       "  <tbody>\n",
       "    <tr>\n",
       "      <th>0</th>\n",
       "      <td>lead data architect</td>\n",
       "      <td>me</td>\n",
       "      <td>melbourne</td>\n",
       "      <td>div data-automation=\"mobiletemplate\" class=\"_2...</td>\n",
       "      <td>159750.0</td>\n",
       "      <td>Other</td>\n",
       "      <td>Middle</td>\n",
       "    </tr>\n",
       "    <tr>\n",
       "      <th>1</th>\n",
       "      <td>data wrangling expert/asset performance analyst</td>\n",
       "      <td>peak services</td>\n",
       "      <td>melbourne</td>\n",
       "      <td>div data-automation=\"mobiletemplate\" class=\"_2...</td>\n",
       "      <td>201500.0</td>\n",
       "      <td>Analyst</td>\n",
       "      <td>Middle</td>\n",
       "    </tr>\n",
       "    <tr>\n",
       "      <th>2</th>\n",
       "      <td>data scientist / data analyst</td>\n",
       "      <td>randstad - technologies</td>\n",
       "      <td>melbourne</td>\n",
       "      <td>div data-automation=\"mobiletemplate\" class=\"_2...</td>\n",
       "      <td>201500.0</td>\n",
       "      <td>Analyst</td>\n",
       "      <td>Middle</td>\n",
       "    </tr>\n",
       "    <tr>\n",
       "      <th>3</th>\n",
       "      <td>data analyst</td>\n",
       "      <td>nab</td>\n",
       "      <td>melbourne</td>\n",
       "      <td>div data-automation=\"mobiletemplate\" class=\"_2...</td>\n",
       "      <td>201500.0</td>\n",
       "      <td>Analyst</td>\n",
       "      <td>Middle</td>\n",
       "    </tr>\n",
       "    <tr>\n",
       "      <th>4</th>\n",
       "      <td>analyst chapter lead (cloud and big data</td>\n",
       "      <td>anz</td>\n",
       "      <td>melbourne</td>\n",
       "      <td>div data-automation=\"mobiletemplate\" class=\"_2...</td>\n",
       "      <td>201500.0</td>\n",
       "      <td>Analyst</td>\n",
       "      <td>Middle</td>\n",
       "    </tr>\n",
       "  </tbody>\n",
       "</table>\n",
       "</div>"
      ],
      "text/plain": [
       "                                             Title                  Company  \\\n",
       "0                              lead data architect                       me   \n",
       "1  data wrangling expert/asset performance analyst            peak services   \n",
       "2                    data scientist / data analyst  randstad - technologies   \n",
       "3                                     data analyst                      nab   \n",
       "4         analyst chapter lead (cloud and big data                      anz   \n",
       "\n",
       "    Location                                        Description  total_pay  \\\n",
       "0  melbourne  div data-automation=\"mobiletemplate\" class=\"_2...   159750.0   \n",
       "1  melbourne  div data-automation=\"mobiletemplate\" class=\"_2...   201500.0   \n",
       "2  melbourne  div data-automation=\"mobiletemplate\" class=\"_2...   201500.0   \n",
       "3  melbourne  div data-automation=\"mobiletemplate\" class=\"_2...   201500.0   \n",
       "4  melbourne  div data-automation=\"mobiletemplate\" class=\"_2...   201500.0   \n",
       "\n",
       "  Simple_Title Job_Level  \n",
       "0        Other    Middle  \n",
       "1      Analyst    Middle  \n",
       "2      Analyst    Middle  \n",
       "3      Analyst    Middle  \n",
       "4      Analyst    Middle  "
      ]
     },
     "execution_count": 4,
     "metadata": {},
     "output_type": "execute_result"
    }
   ],
   "source": [
    "jobs.head()"
   ]
  },
  {
   "cell_type": "markdown",
   "metadata": {},
   "source": [
    "### Sort the salary into three bins\n"
   ]
  },
  {
   "cell_type": "code",
   "execution_count": 5,
   "metadata": {},
   "outputs": [],
   "source": [
    "bin = []\n",
    "for i in jobs.total_pay:\n",
    "    if i < 180000 :\n",
    "        bin.append(0)\n",
    "    elif i >= 180000 and i < 205000:\n",
    "        bin.append(1)\n",
    "    else:\n",
    "        bin.append(2)"
   ]
  },
  {
   "cell_type": "code",
   "execution_count": 6,
   "metadata": {},
   "outputs": [],
   "source": [
    "jobs['pay_bin'] = bin"
   ]
  },
  {
   "cell_type": "code",
   "execution_count": 7,
   "metadata": {},
   "outputs": [
    {
     "data": {
      "text/html": [
       "<div>\n",
       "<style scoped>\n",
       "    .dataframe tbody tr th:only-of-type {\n",
       "        vertical-align: middle;\n",
       "    }\n",
       "\n",
       "    .dataframe tbody tr th {\n",
       "        vertical-align: top;\n",
       "    }\n",
       "\n",
       "    .dataframe thead th {\n",
       "        text-align: right;\n",
       "    }\n",
       "</style>\n",
       "<table border=\"1\" class=\"dataframe\">\n",
       "  <thead>\n",
       "    <tr style=\"text-align: right;\">\n",
       "      <th></th>\n",
       "      <th>Title</th>\n",
       "      <th>Company</th>\n",
       "      <th>Location</th>\n",
       "      <th>Description</th>\n",
       "      <th>total_pay</th>\n",
       "      <th>Simple_Title</th>\n",
       "      <th>Job_Level</th>\n",
       "      <th>pay_bin</th>\n",
       "    </tr>\n",
       "  </thead>\n",
       "  <tbody>\n",
       "    <tr>\n",
       "      <th>0</th>\n",
       "      <td>lead data architect</td>\n",
       "      <td>me</td>\n",
       "      <td>melbourne</td>\n",
       "      <td>div data-automation=\"mobiletemplate\" class=\"_2...</td>\n",
       "      <td>159750.0</td>\n",
       "      <td>Other</td>\n",
       "      <td>Middle</td>\n",
       "      <td>0</td>\n",
       "    </tr>\n",
       "    <tr>\n",
       "      <th>1</th>\n",
       "      <td>data wrangling expert/asset performance analyst</td>\n",
       "      <td>peak services</td>\n",
       "      <td>melbourne</td>\n",
       "      <td>div data-automation=\"mobiletemplate\" class=\"_2...</td>\n",
       "      <td>201500.0</td>\n",
       "      <td>Analyst</td>\n",
       "      <td>Middle</td>\n",
       "      <td>1</td>\n",
       "    </tr>\n",
       "    <tr>\n",
       "      <th>2</th>\n",
       "      <td>data scientist / data analyst</td>\n",
       "      <td>randstad - technologies</td>\n",
       "      <td>melbourne</td>\n",
       "      <td>div data-automation=\"mobiletemplate\" class=\"_2...</td>\n",
       "      <td>201500.0</td>\n",
       "      <td>Analyst</td>\n",
       "      <td>Middle</td>\n",
       "      <td>1</td>\n",
       "    </tr>\n",
       "    <tr>\n",
       "      <th>3</th>\n",
       "      <td>data analyst</td>\n",
       "      <td>nab</td>\n",
       "      <td>melbourne</td>\n",
       "      <td>div data-automation=\"mobiletemplate\" class=\"_2...</td>\n",
       "      <td>201500.0</td>\n",
       "      <td>Analyst</td>\n",
       "      <td>Middle</td>\n",
       "      <td>1</td>\n",
       "    </tr>\n",
       "    <tr>\n",
       "      <th>4</th>\n",
       "      <td>analyst chapter lead (cloud and big data</td>\n",
       "      <td>anz</td>\n",
       "      <td>melbourne</td>\n",
       "      <td>div data-automation=\"mobiletemplate\" class=\"_2...</td>\n",
       "      <td>201500.0</td>\n",
       "      <td>Analyst</td>\n",
       "      <td>Middle</td>\n",
       "      <td>1</td>\n",
       "    </tr>\n",
       "  </tbody>\n",
       "</table>\n",
       "</div>"
      ],
      "text/plain": [
       "                                             Title                  Company  \\\n",
       "0                              lead data architect                       me   \n",
       "1  data wrangling expert/asset performance analyst            peak services   \n",
       "2                    data scientist / data analyst  randstad - technologies   \n",
       "3                                     data analyst                      nab   \n",
       "4         analyst chapter lead (cloud and big data                      anz   \n",
       "\n",
       "    Location                                        Description  total_pay  \\\n",
       "0  melbourne  div data-automation=\"mobiletemplate\" class=\"_2...   159750.0   \n",
       "1  melbourne  div data-automation=\"mobiletemplate\" class=\"_2...   201500.0   \n",
       "2  melbourne  div data-automation=\"mobiletemplate\" class=\"_2...   201500.0   \n",
       "3  melbourne  div data-automation=\"mobiletemplate\" class=\"_2...   201500.0   \n",
       "4  melbourne  div data-automation=\"mobiletemplate\" class=\"_2...   201500.0   \n",
       "\n",
       "  Simple_Title Job_Level  pay_bin  \n",
       "0        Other    Middle        0  \n",
       "1      Analyst    Middle        1  \n",
       "2      Analyst    Middle        1  \n",
       "3      Analyst    Middle        1  \n",
       "4      Analyst    Middle        1  "
      ]
     },
     "execution_count": 7,
     "metadata": {},
     "output_type": "execute_result"
    }
   ],
   "source": [
    "jobs.head()"
   ]
  },
  {
   "cell_type": "markdown",
   "metadata": {},
   "source": [
    "### Find the baseline"
   ]
  },
  {
   "cell_type": "code",
   "execution_count": 8,
   "metadata": {},
   "outputs": [
    {
     "name": "stdout",
     "output_type": "stream",
     "text": [
      "51.36540962288687\n"
     ]
    }
   ],
   "source": [
    "baseline = jobs.pay_bin.value_counts().max()/len(jobs.pay_bin) * 100\n",
    "print(baseline)"
   ]
  },
  {
   "cell_type": "markdown",
   "metadata": {},
   "source": [
    "## PREDICT SALARY FROM DESCRIPTION"
   ]
  },
  {
   "cell_type": "code",
   "execution_count": 31,
   "metadata": {},
   "outputs": [],
   "source": [
    "X = jobs.iloc[:, 3]\n",
    "y = jobs.iloc[:, -1]"
   ]
  },
  {
   "cell_type": "code",
   "execution_count": 32,
   "metadata": {},
   "outputs": [],
   "source": [
    "X_train, X_test, y_train, y_test = train_test_split(X, y, random_state=30)"
   ]
  },
  {
   "cell_type": "markdown",
   "metadata": {},
   "source": [
    "### Set up the train and test sets for both Count Vectorizer and TF-TDF"
   ]
  },
  {
   "cell_type": "code",
   "execution_count": 33,
   "metadata": {},
   "outputs": [
    {
     "data": {
      "text/plain": [
       "CountVectorizer(analyzer='word', binary=False, decode_error='strict',\n",
       "        dtype=<class 'numpy.int64'>, encoding='utf-8', input='content',\n",
       "        lowercase=True, max_df=1.0, max_features=None, min_df=1,\n",
       "        ngram_range=(1, 3), preprocessor=None, stop_words='english',\n",
       "        strip_accents=None, token_pattern='(?u)\\\\b\\\\w\\\\w+\\\\b',\n",
       "        tokenizer=None, vocabulary=None)"
      ]
     },
     "execution_count": 33,
     "metadata": {},
     "output_type": "execute_result"
    }
   ],
   "source": [
    "cvec = CountVectorizer(stop_words='english', ngram_range=(1,3))\n",
    "cvec.fit(X_train)"
   ]
  },
  {
   "cell_type": "code",
   "execution_count": 34,
   "metadata": {},
   "outputs": [],
   "source": [
    "X_train_cv = cvec.transform(X_train)\n",
    "X_test_cv = cvec.transform(X_test)"
   ]
  },
  {
   "cell_type": "code",
   "execution_count": 35,
   "metadata": {},
   "outputs": [
    {
     "data": {
      "text/plain": [
       "TfidfVectorizer(analyzer='word', binary=False, decode_error='strict',\n",
       "        dtype=<class 'numpy.float64'>, encoding='utf-8', input='content',\n",
       "        lowercase=True, max_df=1.0, max_features=None, min_df=1,\n",
       "        ngram_range=(1, 3), norm='l2', preprocessor=None, smooth_idf=True,\n",
       "        stop_words='english', strip_accents=None, sublinear_tf=False,\n",
       "        token_pattern='(?u)\\\\b\\\\w\\\\w+\\\\b', tokenizer=None, use_idf=True,\n",
       "        vocabulary=None)"
      ]
     },
     "execution_count": 35,
     "metadata": {},
     "output_type": "execute_result"
    }
   ],
   "source": [
    "tfidf_vec = TfidfVectorizer(stop_words='english', ngram_range=(1,3))\n",
    "tfidf_vec.fit(X_train)"
   ]
  },
  {
   "cell_type": "code",
   "execution_count": 36,
   "metadata": {},
   "outputs": [],
   "source": [
    "X_train_tfidf = tfidf_vec.transform(X_train)\n",
    "X_test_tfidf = tfidf_vec.transform(X_test)"
   ]
  },
  {
   "cell_type": "markdown",
   "metadata": {},
   "source": [
    "### Create a function to try different models"
   ]
  },
  {
   "cell_type": "code",
   "execution_count": 37,
   "metadata": {},
   "outputs": [],
   "source": [
    "def train_model(classifier, X_train, y_train, X_test):\n",
    "    classifier.fit(X_train, y_train)\n",
    "    \n",
    "    predictions = classifier.predict(X_test)\n",
    "    \n",
    "    return accuracy_score(predictions, y_test)"
   ]
  },
  {
   "cell_type": "markdown",
   "metadata": {},
   "source": [
    "### MULTINOMIAL NAIVE BAYES"
   ]
  },
  {
   "cell_type": "code",
   "execution_count": 38,
   "metadata": {},
   "outputs": [
    {
     "name": "stdout",
     "output_type": "stream",
     "text": [
      "NB, Count Vectors:  0.5699481865284974\n",
      "NB, TF-IDF:  0.5025906735751295\n"
     ]
    }
   ],
   "source": [
    "accuracy = train_model(MultinomialNB(), X_train_cv, y_train, X_test_cv)\n",
    "print (\"NB, Count Vectors: \", accuracy)\n",
    "\n",
    "accuracy = train_model(MultinomialNB(), X_train_tfidf, y_train, X_test_tfidf)\n",
    "print (\"NB, TF-IDF: \", accuracy)"
   ]
  },
  {
   "cell_type": "markdown",
   "metadata": {},
   "source": [
    "### LOGISTIC REGRESSION"
   ]
  },
  {
   "cell_type": "code",
   "execution_count": 39,
   "metadata": {},
   "outputs": [
    {
     "name": "stdout",
     "output_type": "stream",
     "text": [
      "LR, Count Vectors:  0.6217616580310881\n",
      "LR, TF-IDF:  0.5284974093264249\n"
     ]
    }
   ],
   "source": [
    "accuracy = train_model(LogisticRegression(random_state=30), X_train_cv, y_train, X_test_cv)\n",
    "print (\"LR, Count Vectors: \", accuracy)\n",
    "\n",
    "accuracy = train_model(LogisticRegression(random_state=30), X_train_tfidf, y_train, X_test_tfidf)\n",
    "print (\"LR, TF-IDF: \", accuracy)"
   ]
  },
  {
   "cell_type": "markdown",
   "metadata": {},
   "source": [
    "### SUPPORT VECTOR CLASSIFIER"
   ]
  },
  {
   "cell_type": "code",
   "execution_count": 40,
   "metadata": {},
   "outputs": [
    {
     "name": "stdout",
     "output_type": "stream",
     "text": [
      "SVC, TF-IDF:  0.5025906735751295\n"
     ]
    }
   ],
   "source": [
    "accuracy = train_model(SVC(random_state=30), X_train_tfidf, y_train, X_test_tfidf)\n",
    "print (\"SVC, TF-IDF: \", accuracy)"
   ]
  },
  {
   "cell_type": "markdown",
   "metadata": {},
   "source": [
    "### RANDOM FOREST CLASSIFIER"
   ]
  },
  {
   "cell_type": "code",
   "execution_count": 41,
   "metadata": {},
   "outputs": [
    {
     "name": "stdout",
     "output_type": "stream",
     "text": [
      "RF, Count Vectors:  0.5958549222797928\n",
      "RF, TF-IDF:  0.5181347150259067\n"
     ]
    }
   ],
   "source": [
    "accuracy = train_model(RandomForestClassifier(random_state=30), X_train_cv, y_train, X_test_cv)\n",
    "print (\"RF, Count Vectors: \", accuracy)\n",
    "\n",
    "accuracy = train_model(RandomForestClassifier(random_state=30), X_train_tfidf, y_train, X_test_tfidf)\n",
    "print (\"RF, TF-IDF: \", accuracy)"
   ]
  },
  {
   "cell_type": "markdown",
   "metadata": {},
   "source": [
    "## PREDICT SALARY FROM TITLE"
   ]
  },
  {
   "cell_type": "code",
   "execution_count": 65,
   "metadata": {},
   "outputs": [],
   "source": [
    "X = jobs.iloc[:, 5]\n",
    "y = jobs.iloc[:, -1]"
   ]
  },
  {
   "cell_type": "code",
   "execution_count": 66,
   "metadata": {},
   "outputs": [],
   "source": [
    "X_train, X_test, y_train, y_test = train_test_split(X, y, random_state=30)"
   ]
  },
  {
   "cell_type": "code",
   "execution_count": 67,
   "metadata": {},
   "outputs": [
    {
     "data": {
      "text/plain": [
       "CountVectorizer(analyzer='word', binary=False, decode_error='strict',\n",
       "        dtype=<class 'numpy.int64'>, encoding='utf-8', input='content',\n",
       "        lowercase=True, max_df=1.0, max_features=None, min_df=1,\n",
       "        ngram_range=(1, 3), preprocessor=None, stop_words='english',\n",
       "        strip_accents=None, token_pattern='(?u)\\\\b\\\\w\\\\w+\\\\b',\n",
       "        tokenizer=None, vocabulary=None)"
      ]
     },
     "execution_count": 67,
     "metadata": {},
     "output_type": "execute_result"
    }
   ],
   "source": [
    "cvec = CountVectorizer(stop_words='english', ngram_range=(1,3))\n",
    "cvec.fit(X_train)"
   ]
  },
  {
   "cell_type": "code",
   "execution_count": 68,
   "metadata": {},
   "outputs": [],
   "source": [
    "X_train_cv = cvec.transform(X_train)\n",
    "X_test_cv = cvec.transform(X_test)"
   ]
  },
  {
   "cell_type": "code",
   "execution_count": 69,
   "metadata": {},
   "outputs": [
    {
     "data": {
      "text/plain": [
       "TfidfVectorizer(analyzer='word', binary=False, decode_error='strict',\n",
       "        dtype=<class 'numpy.float64'>, encoding='utf-8', input='content',\n",
       "        lowercase=True, max_df=1.0, max_features=None, min_df=1,\n",
       "        ngram_range=(1, 3), norm='l2', preprocessor=None, smooth_idf=True,\n",
       "        stop_words='english', strip_accents=None, sublinear_tf=False,\n",
       "        token_pattern='(?u)\\\\b\\\\w\\\\w+\\\\b', tokenizer=None, use_idf=True,\n",
       "        vocabulary=None)"
      ]
     },
     "execution_count": 69,
     "metadata": {},
     "output_type": "execute_result"
    }
   ],
   "source": [
    "tfidf_vec = TfidfVectorizer(stop_words='english', ngram_range=(1,3))\n",
    "tfidf_vec.fit(X_train)"
   ]
  },
  {
   "cell_type": "code",
   "execution_count": 70,
   "metadata": {},
   "outputs": [],
   "source": [
    "X_train_tfidf = tfidf_vec.transform(X_train)\n",
    "X_test_tfidf = tfidf_vec.transform(X_test)"
   ]
  },
  {
   "cell_type": "code",
   "execution_count": 71,
   "metadata": {},
   "outputs": [],
   "source": [
    "def train_model(classifier, X_train, y_train, X_test):\n",
    "    classifier.fit(X_train, y_train)\n",
    "    \n",
    "    predictions = classifier.predict(X_test)\n",
    "      \n",
    "    return accuracy_score(predictions, y_test)"
   ]
  },
  {
   "cell_type": "code",
   "execution_count": 72,
   "metadata": {},
   "outputs": [
    {
     "name": "stdout",
     "output_type": "stream",
     "text": [
      "NB, Count Vectors:  0.5544041450777202\n",
      "NB, TF-IDF:  0.5544041450777202\n"
     ]
    }
   ],
   "source": [
    "accuracy = train_model(MultinomialNB(), X_train_cv, y_train, X_test_cv)\n",
    "print (\"NB, Count Vectors: \", accuracy)\n",
    "\n",
    "accuracy = train_model(MultinomialNB(), X_train_tfidf, y_train, X_test_tfidf)\n",
    "print (\"NB, TF-IDF: \", accuracy)"
   ]
  },
  {
   "cell_type": "code",
   "execution_count": 73,
   "metadata": {},
   "outputs": [
    {
     "name": "stdout",
     "output_type": "stream",
     "text": [
      "LR, Count Vectors:  0.8290155440414507\n",
      "LR, TF-IDF:  0.8290155440414507\n"
     ]
    }
   ],
   "source": [
    "accuracy = train_model(LogisticRegression(random_state=30), X_train_cv, y_train, X_test_cv)\n",
    "print (\"LR, Count Vectors: \", accuracy)\n",
    "\n",
    "accuracy = train_model(LogisticRegression(random_state=30), X_train_tfidf, y_train, X_test_tfidf)\n",
    "print (\"LR, TF-IDF: \", accuracy)"
   ]
  },
  {
   "cell_type": "code",
   "execution_count": 74,
   "metadata": {},
   "outputs": [
    {
     "name": "stdout",
     "output_type": "stream",
     "text": [
      "SVC, TF-IDF:  0.8290155440414507\n"
     ]
    }
   ],
   "source": [
    "accuracy = train_model(SVC(random_state=30), X_train_tfidf, y_train, X_test_tfidf)\n",
    "print (\"SVC, TF-IDF: \", accuracy)"
   ]
  },
  {
   "cell_type": "code",
   "execution_count": 75,
   "metadata": {},
   "outputs": [
    {
     "name": "stdout",
     "output_type": "stream",
     "text": [
      "RF, Count Vectors:  0.8290155440414507\n",
      "RF, TF-IDF:  0.8290155440414507\n"
     ]
    }
   ],
   "source": [
    "accuracy = train_model(RandomForestClassifier(random_state=30), X_train_cv, y_train, X_test_cv)\n",
    "print (\"RF, Count Vectors: \", accuracy)\n",
    "\n",
    "accuracy = train_model(RandomForestClassifier(random_state=30), X_train_tfidf, y_train, X_test_tfidf)\n",
    "print (\"RF, TF-IDF: \", accuracy)"
   ]
  },
  {
   "cell_type": "markdown",
   "metadata": {},
   "source": [
    "## PREDICT SALARY FROM LOCATION"
   ]
  },
  {
   "cell_type": "code",
   "execution_count": 77,
   "metadata": {},
   "outputs": [],
   "source": [
    "X = jobs.iloc[:, 2]\n",
    "y = jobs.iloc[:, -1]"
   ]
  },
  {
   "cell_type": "code",
   "execution_count": 78,
   "metadata": {},
   "outputs": [],
   "source": [
    "X_train, X_test, y_train, y_test = train_test_split(X, y, random_state=30)"
   ]
  },
  {
   "cell_type": "code",
   "execution_count": 79,
   "metadata": {},
   "outputs": [
    {
     "data": {
      "text/plain": [
       "CountVectorizer(analyzer='word', binary=False, decode_error='strict',\n",
       "        dtype=<class 'numpy.int64'>, encoding='utf-8', input='content',\n",
       "        lowercase=True, max_df=1.0, max_features=None, min_df=1,\n",
       "        ngram_range=(1, 3), preprocessor=None, stop_words='english',\n",
       "        strip_accents=None, token_pattern='(?u)\\\\b\\\\w\\\\w+\\\\b',\n",
       "        tokenizer=None, vocabulary=None)"
      ]
     },
     "execution_count": 79,
     "metadata": {},
     "output_type": "execute_result"
    }
   ],
   "source": [
    "cvec = CountVectorizer(stop_words='english', ngram_range=(1,3))\n",
    "cvec.fit(X_train)"
   ]
  },
  {
   "cell_type": "code",
   "execution_count": 80,
   "metadata": {},
   "outputs": [],
   "source": [
    "X_train_cv = cvec.transform(X_train)\n",
    "X_test_cv = cvec.transform(X_test)"
   ]
  },
  {
   "cell_type": "code",
   "execution_count": 81,
   "metadata": {},
   "outputs": [
    {
     "data": {
      "text/plain": [
       "TfidfVectorizer(analyzer='word', binary=False, decode_error='strict',\n",
       "        dtype=<class 'numpy.float64'>, encoding='utf-8', input='content',\n",
       "        lowercase=True, max_df=1.0, max_features=None, min_df=1,\n",
       "        ngram_range=(1, 3), norm='l2', preprocessor=None, smooth_idf=True,\n",
       "        stop_words='english', strip_accents=None, sublinear_tf=False,\n",
       "        token_pattern='(?u)\\\\b\\\\w\\\\w+\\\\b', tokenizer=None, use_idf=True,\n",
       "        vocabulary=None)"
      ]
     },
     "execution_count": 81,
     "metadata": {},
     "output_type": "execute_result"
    }
   ],
   "source": [
    "tfidf_vec = TfidfVectorizer(stop_words='english', ngram_range=(1,3))\n",
    "tfidf_vec.fit(X_train)"
   ]
  },
  {
   "cell_type": "code",
   "execution_count": 82,
   "metadata": {},
   "outputs": [],
   "source": [
    "X_train_tfidf = tfidf_vec.transform(X_train)\n",
    "X_test_tfidf = tfidf_vec.transform(X_test)"
   ]
  },
  {
   "cell_type": "code",
   "execution_count": 83,
   "metadata": {},
   "outputs": [],
   "source": [
    "def train_model(classifier, X_train, y_train, X_test):\n",
    "    classifier.fit(X_train, y_train)\n",
    "    \n",
    "    predictions = classifier.predict(X_test)\n",
    "      \n",
    "    return accuracy_score(predictions, y_test)"
   ]
  },
  {
   "cell_type": "code",
   "execution_count": 84,
   "metadata": {},
   "outputs": [
    {
     "name": "stdout",
     "output_type": "stream",
     "text": [
      "NB, Count Vectors:  0.5025906735751295\n",
      "NB, TF-IDF:  0.5025906735751295\n"
     ]
    }
   ],
   "source": [
    "accuracy = train_model(MultinomialNB(), X_train_cv, y_train, X_test_cv)\n",
    "print (\"NB, Count Vectors: \", accuracy)\n",
    "\n",
    "accuracy = train_model(MultinomialNB(), X_train_tfidf, y_train, X_test_tfidf)\n",
    "print (\"NB, TF-IDF: \", accuracy)"
   ]
  },
  {
   "cell_type": "code",
   "execution_count": 85,
   "metadata": {},
   "outputs": [
    {
     "name": "stdout",
     "output_type": "stream",
     "text": [
      "LR, Count Vectors:  0.5025906735751295\n",
      "LR, TF-IDF:  0.5025906735751295\n"
     ]
    }
   ],
   "source": [
    "accuracy = train_model(LogisticRegression(random_state=30), X_train_cv, y_train, X_test_cv)\n",
    "print (\"LR, Count Vectors: \", accuracy)\n",
    "\n",
    "accuracy = train_model(LogisticRegression(random_state=30), X_train_tfidf, y_train, X_test_tfidf)\n",
    "print (\"LR, TF-IDF: \", accuracy)"
   ]
  },
  {
   "cell_type": "code",
   "execution_count": 86,
   "metadata": {},
   "outputs": [
    {
     "name": "stdout",
     "output_type": "stream",
     "text": [
      "SVC, TF-IDF:  0.5025906735751295\n"
     ]
    }
   ],
   "source": [
    "accuracy = train_model(SVC(random_state=30), X_train_tfidf, y_train, X_test_tfidf)\n",
    "print (\"SVC, TF-IDF: \", accuracy)"
   ]
  },
  {
   "cell_type": "code",
   "execution_count": 87,
   "metadata": {},
   "outputs": [
    {
     "name": "stdout",
     "output_type": "stream",
     "text": [
      "RF, Count Vectors:  0.5025906735751295\n",
      "RF, TF-IDF:  0.5025906735751295\n"
     ]
    }
   ],
   "source": [
    "accuracy = train_model(RandomForestClassifier(random_state=30), X_train_cv, y_train, X_test_cv)\n",
    "print (\"RF, Count Vectors: \", accuracy)\n",
    "\n",
    "accuracy = train_model(RandomForestClassifier(random_state=30), X_train_tfidf, y_train, X_test_tfidf)\n",
    "print (\"RF, TF-IDF: \", accuracy)"
   ]
  },
  {
   "cell_type": "markdown",
   "metadata": {},
   "source": [
    "## PREDICT SALARY FROM SUB GROUPS"
   ]
  },
  {
   "cell_type": "code",
   "execution_count": 43,
   "metadata": {},
   "outputs": [],
   "source": [
    "salary = jobs[['Location', 'Simple_Title', 'Job_Level', 'pay_bin']]"
   ]
  },
  {
   "cell_type": "code",
   "execution_count": 55,
   "metadata": {},
   "outputs": [],
   "source": [
    "salary = pd.get_dummies(salary)"
   ]
  },
  {
   "cell_type": "code",
   "execution_count": 56,
   "metadata": {},
   "outputs": [
    {
     "data": {
      "text/html": [
       "<div>\n",
       "<style scoped>\n",
       "    .dataframe tbody tr th:only-of-type {\n",
       "        vertical-align: middle;\n",
       "    }\n",
       "\n",
       "    .dataframe tbody tr th {\n",
       "        vertical-align: top;\n",
       "    }\n",
       "\n",
       "    .dataframe thead th {\n",
       "        text-align: right;\n",
       "    }\n",
       "</style>\n",
       "<table border=\"1\" class=\"dataframe\">\n",
       "  <thead>\n",
       "    <tr style=\"text-align: right;\">\n",
       "      <th></th>\n",
       "      <th>pay_bin</th>\n",
       "      <th>Location_melbourne</th>\n",
       "      <th>Location_sydney</th>\n",
       "      <th>Simple_Title_Analyst</th>\n",
       "      <th>Simple_Title_Consultant</th>\n",
       "      <th>Simple_Title_Engineer</th>\n",
       "      <th>Simple_Title_Other</th>\n",
       "      <th>Simple_Title_Scientist</th>\n",
       "      <th>Job_Level_Junior</th>\n",
       "      <th>Job_Level_Middle</th>\n",
       "      <th>Job_Level_Senior</th>\n",
       "    </tr>\n",
       "  </thead>\n",
       "  <tbody>\n",
       "    <tr>\n",
       "      <th>0</th>\n",
       "      <td>0</td>\n",
       "      <td>1</td>\n",
       "      <td>0</td>\n",
       "      <td>0</td>\n",
       "      <td>0</td>\n",
       "      <td>0</td>\n",
       "      <td>1</td>\n",
       "      <td>0</td>\n",
       "      <td>0</td>\n",
       "      <td>1</td>\n",
       "      <td>0</td>\n",
       "    </tr>\n",
       "    <tr>\n",
       "      <th>1</th>\n",
       "      <td>1</td>\n",
       "      <td>1</td>\n",
       "      <td>0</td>\n",
       "      <td>1</td>\n",
       "      <td>0</td>\n",
       "      <td>0</td>\n",
       "      <td>0</td>\n",
       "      <td>0</td>\n",
       "      <td>0</td>\n",
       "      <td>1</td>\n",
       "      <td>0</td>\n",
       "    </tr>\n",
       "    <tr>\n",
       "      <th>2</th>\n",
       "      <td>1</td>\n",
       "      <td>1</td>\n",
       "      <td>0</td>\n",
       "      <td>1</td>\n",
       "      <td>0</td>\n",
       "      <td>0</td>\n",
       "      <td>0</td>\n",
       "      <td>0</td>\n",
       "      <td>0</td>\n",
       "      <td>1</td>\n",
       "      <td>0</td>\n",
       "    </tr>\n",
       "    <tr>\n",
       "      <th>3</th>\n",
       "      <td>1</td>\n",
       "      <td>1</td>\n",
       "      <td>0</td>\n",
       "      <td>1</td>\n",
       "      <td>0</td>\n",
       "      <td>0</td>\n",
       "      <td>0</td>\n",
       "      <td>0</td>\n",
       "      <td>0</td>\n",
       "      <td>1</td>\n",
       "      <td>0</td>\n",
       "    </tr>\n",
       "    <tr>\n",
       "      <th>4</th>\n",
       "      <td>1</td>\n",
       "      <td>1</td>\n",
       "      <td>0</td>\n",
       "      <td>1</td>\n",
       "      <td>0</td>\n",
       "      <td>0</td>\n",
       "      <td>0</td>\n",
       "      <td>0</td>\n",
       "      <td>0</td>\n",
       "      <td>1</td>\n",
       "      <td>0</td>\n",
       "    </tr>\n",
       "  </tbody>\n",
       "</table>\n",
       "</div>"
      ],
      "text/plain": [
       "   pay_bin  Location_melbourne  Location_sydney  Simple_Title_Analyst  \\\n",
       "0        0                   1                0                     0   \n",
       "1        1                   1                0                     1   \n",
       "2        1                   1                0                     1   \n",
       "3        1                   1                0                     1   \n",
       "4        1                   1                0                     1   \n",
       "\n",
       "   Simple_Title_Consultant  Simple_Title_Engineer  Simple_Title_Other  \\\n",
       "0                        0                      0                   1   \n",
       "1                        0                      0                   0   \n",
       "2                        0                      0                   0   \n",
       "3                        0                      0                   0   \n",
       "4                        0                      0                   0   \n",
       "\n",
       "   Simple_Title_Scientist  Job_Level_Junior  Job_Level_Middle  \\\n",
       "0                       0                 0                 1   \n",
       "1                       0                 0                 1   \n",
       "2                       0                 0                 1   \n",
       "3                       0                 0                 1   \n",
       "4                       0                 0                 1   \n",
       "\n",
       "   Job_Level_Senior  \n",
       "0                 0  \n",
       "1                 0  \n",
       "2                 0  \n",
       "3                 0  \n",
       "4                 0  "
      ]
     },
     "execution_count": 56,
     "metadata": {},
     "output_type": "execute_result"
    }
   ],
   "source": [
    "salary.head()"
   ]
  },
  {
   "cell_type": "code",
   "execution_count": 57,
   "metadata": {},
   "outputs": [],
   "source": [
    "X = salary.iloc[:, 1:]\n",
    "y = salary.iloc[:, 0]"
   ]
  },
  {
   "cell_type": "code",
   "execution_count": 58,
   "metadata": {},
   "outputs": [],
   "source": [
    "X_train, X_test, y_train, y_test = train_test_split(X, y, random_state=30)"
   ]
  },
  {
   "cell_type": "code",
   "execution_count": 63,
   "metadata": {},
   "outputs": [],
   "source": [
    "def train_model(classifier, X_train, y_train, X_test):\n",
    "    classifier.fit(X_train, y_train)\n",
    "    \n",
    "    train_predictions = classifier.predict(X_train)\n",
    "    predictions = classifier.predict(X_test)\n",
    "      \n",
    "    return accuracy_score(predictions, y_test), accuracy_score(train_predictions, y_train)"
   ]
  },
  {
   "cell_type": "code",
   "execution_count": 72,
   "metadata": {},
   "outputs": [
    {
     "name": "stdout",
     "output_type": "stream",
     "text": [
      "NB test , train:  (0.927461139896373, 0.9340277777777778)\n"
     ]
    }
   ],
   "source": [
    "accuracy = train_model(MultinomialNB(), X_train, y_train, X_test)\n",
    "print (\"NB test , train: \", accuracy)"
   ]
  },
  {
   "cell_type": "code",
   "execution_count": 67,
   "metadata": {},
   "outputs": [
    {
     "name": "stdout",
     "output_type": "stream",
     "text": [
      "LR test , train:  (0.927461139896373, 0.9340277777777778)\n"
     ]
    }
   ],
   "source": [
    "accuracy = train_model(LogisticRegression(random_state=30), X_train, y_train, X_test)\n",
    "print (\"LR test , train: \", accuracy)"
   ]
  },
  {
   "cell_type": "code",
   "execution_count": 69,
   "metadata": {},
   "outputs": [
    {
     "name": "stdout",
     "output_type": "stream",
     "text": [
      "SVC test , train:  (0.9481865284974094, 0.9496527777777778)\n"
     ]
    }
   ],
   "source": [
    "accuracy = train_model(SVC(random_state=30), X_train, y_train, X_test)\n",
    "print (\"SVC test , train: \", accuracy)"
   ]
  },
  {
   "cell_type": "code",
   "execution_count": 70,
   "metadata": {},
   "outputs": [
    {
     "name": "stdout",
     "output_type": "stream",
     "text": [
      "RF test , train:  (0.9481865284974094, 0.9496527777777778)\n"
     ]
    }
   ],
   "source": [
    "accuracy = train_model(RandomForestClassifier(random_state=30), X_train, y_train, X_test)\n",
    "print (\"RF test , train: \", accuracy)"
   ]
  },
  {
   "cell_type": "code",
   "execution_count": null,
   "metadata": {},
   "outputs": [],
   "source": [
    "\n",
    "y_pred = logreg.predict(X_test)\n",
    "print(\"The accuracy score of train:\", logreg.score(X_train, y_train)*100)\n",
    "print(\"The accuracy score of test:\", logreg.score(X_test, y_test)*100)"
   ]
  },
  {
   "cell_type": "code",
   "execution_count": 81,
   "metadata": {},
   "outputs": [
    {
     "name": "stdout",
     "output_type": "stream",
     "text": [
      "[[-0.51652999 -0.28160783 -1.33992869 -1.03099023 -1.4192096   4.22098127\n",
      "  -1.22899057  3.12128939 -0.48202994 -3.43739727]\n",
      " [-0.30785534 -0.6114627   1.44833952  1.29494407  1.82612144 -2.97185202\n",
      "  -2.51687105 -1.50420879  1.91667307 -1.33178233]\n",
      " [-0.3076616  -0.04227938 -0.50914327 -0.29340036 -0.7202364  -2.45373205\n",
      "   3.62657111 -1.47516085 -1.65163085  2.77685073]]\n"
     ]
    }
   ],
   "source": [
    "lr = LogisticRegression(random_state=30)\n",
    "lr.fit(X_train, y_train)\n",
    "pred = lr.predict(X_test)\n",
    "lr_counts = pd.DataFrame(lr.coef_, columns=X_train.columns, index=['LOW', 'MED', 'HIGH']).T"
   ]
  },
  {
   "cell_type": "code",
   "execution_count": 79,
   "metadata": {},
   "outputs": [
    {
     "data": {
      "text/html": [
       "<div>\n",
       "<style scoped>\n",
       "    .dataframe tbody tr th:only-of-type {\n",
       "        vertical-align: middle;\n",
       "    }\n",
       "\n",
       "    .dataframe tbody tr th {\n",
       "        vertical-align: top;\n",
       "    }\n",
       "\n",
       "    .dataframe thead th {\n",
       "        text-align: right;\n",
       "    }\n",
       "</style>\n",
       "<table border=\"1\" class=\"dataframe\">\n",
       "  <thead>\n",
       "    <tr style=\"text-align: right;\">\n",
       "      <th></th>\n",
       "      <th>LOW</th>\n",
       "      <th>MED</th>\n",
       "      <th>HIGH</th>\n",
       "    </tr>\n",
       "  </thead>\n",
       "  <tbody>\n",
       "    <tr>\n",
       "      <th>Location_melbourne</th>\n",
       "      <td>-0.516530</td>\n",
       "      <td>-0.307855</td>\n",
       "      <td>-0.307662</td>\n",
       "    </tr>\n",
       "    <tr>\n",
       "      <th>Location_sydney</th>\n",
       "      <td>-0.281608</td>\n",
       "      <td>-0.611463</td>\n",
       "      <td>-0.042279</td>\n",
       "    </tr>\n",
       "    <tr>\n",
       "      <th>Simple_Title_Analyst</th>\n",
       "      <td>-1.339929</td>\n",
       "      <td>1.448340</td>\n",
       "      <td>-0.509143</td>\n",
       "    </tr>\n",
       "    <tr>\n",
       "      <th>Simple_Title_Consultant</th>\n",
       "      <td>-1.030990</td>\n",
       "      <td>1.294944</td>\n",
       "      <td>-0.293400</td>\n",
       "    </tr>\n",
       "    <tr>\n",
       "      <th>Simple_Title_Engineer</th>\n",
       "      <td>-1.419210</td>\n",
       "      <td>1.826121</td>\n",
       "      <td>-0.720236</td>\n",
       "    </tr>\n",
       "    <tr>\n",
       "      <th>Simple_Title_Other</th>\n",
       "      <td>4.220981</td>\n",
       "      <td>-2.971852</td>\n",
       "      <td>-2.453732</td>\n",
       "    </tr>\n",
       "    <tr>\n",
       "      <th>Simple_Title_Scientist</th>\n",
       "      <td>-1.228991</td>\n",
       "      <td>-2.516871</td>\n",
       "      <td>3.626571</td>\n",
       "    </tr>\n",
       "    <tr>\n",
       "      <th>Job_Level_Junior</th>\n",
       "      <td>3.121289</td>\n",
       "      <td>-1.504209</td>\n",
       "      <td>-1.475161</td>\n",
       "    </tr>\n",
       "    <tr>\n",
       "      <th>Job_Level_Middle</th>\n",
       "      <td>-0.482030</td>\n",
       "      <td>1.916673</td>\n",
       "      <td>-1.651631</td>\n",
       "    </tr>\n",
       "    <tr>\n",
       "      <th>Job_Level_Senior</th>\n",
       "      <td>-3.437397</td>\n",
       "      <td>-1.331782</td>\n",
       "      <td>2.776851</td>\n",
       "    </tr>\n",
       "  </tbody>\n",
       "</table>\n",
       "</div>"
      ],
      "text/plain": [
       "                              LOW       MED      HIGH\n",
       "Location_melbourne      -0.516530 -0.307855 -0.307662\n",
       "Location_sydney         -0.281608 -0.611463 -0.042279\n",
       "Simple_Title_Analyst    -1.339929  1.448340 -0.509143\n",
       "Simple_Title_Consultant -1.030990  1.294944 -0.293400\n",
       "Simple_Title_Engineer   -1.419210  1.826121 -0.720236\n",
       "Simple_Title_Other       4.220981 -2.971852 -2.453732\n",
       "Simple_Title_Scientist  -1.228991 -2.516871  3.626571\n",
       "Job_Level_Junior         3.121289 -1.504209 -1.475161\n",
       "Job_Level_Middle        -0.482030  1.916673 -1.651631\n",
       "Job_Level_Senior        -3.437397 -1.331782  2.776851"
      ]
     },
     "execution_count": 79,
     "metadata": {},
     "output_type": "execute_result"
    }
   ],
   "source": [
    "lr_counts"
   ]
  },
  {
   "cell_type": "code",
   "execution_count": 83,
   "metadata": {},
   "outputs": [
    {
     "name": "stdout",
     "output_type": "stream",
     "text": [
      "              precision    recall  f1-score   support\n",
      "\n",
      "           0       0.97      0.94      0.95        62\n",
      "           1       0.92      0.95      0.93        97\n",
      "           2       0.88      0.85      0.87        34\n",
      "\n",
      "   micro avg       0.93      0.93      0.93       193\n",
      "   macro avg       0.92      0.91      0.92       193\n",
      "weighted avg       0.93      0.93      0.93       193\n",
      "\n"
     ]
    }
   ],
   "source": [
    "Prec_score = classification_report(y_test, pred)\n",
    "print(Prec_score)"
   ]
  },
  {
   "cell_type": "code",
   "execution_count": null,
   "metadata": {},
   "outputs": [],
   "source": []
  }
 ],
 "metadata": {
  "kernelspec": {
   "display_name": "Python 3",
   "language": "python",
   "name": "python3"
  },
  "language_info": {
   "codemirror_mode": {
    "name": "ipython",
    "version": 3
   },
   "file_extension": ".py",
   "mimetype": "text/x-python",
   "name": "python",
   "nbconvert_exporter": "python",
   "pygments_lexer": "ipython3",
   "version": "3.7.1"
  }
 },
 "nbformat": 4,
 "nbformat_minor": 2
}
