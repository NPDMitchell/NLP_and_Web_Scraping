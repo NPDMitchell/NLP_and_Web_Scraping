{
 "cells": [
  {
   "cell_type": "code",
   "execution_count": 1,
   "metadata": {},
   "outputs": [],
   "source": [
    "import requests\n",
    "from scrapy.selector import Selector\n",
    "import pandas as pd\n",
    "import numpy as np"
   ]
  },
  {
   "cell_type": "markdown",
   "metadata": {},
   "source": [
    "### Create a list of URL's to scrape, this is just for Melbourne, Sydeny will be scraped below"
   ]
  },
  {
   "cell_type": "code",
   "execution_count": 8,
   "metadata": {},
   "outputs": [],
   "source": [
    "reqs = []\n",
    "for x in range(2, 31):\n",
    "    r = requests.get('https://www.seek.com.au/Data-jobs/in-Melbourne?page=' + str(x))\n",
    "    HTML = r.text\n",
    "    urls = Selector(text=HTML).xpath('//*/article/span[2]/span/h1/a/@href').extract()\n",
    "    reqs.extend(urls)  "
   ]
  },
  {
   "cell_type": "code",
   "execution_count": 9,
   "metadata": {},
   "outputs": [
    {
     "data": {
      "text/plain": [
       "588"
      ]
     },
     "execution_count": 9,
     "metadata": {},
     "output_type": "execute_result"
    }
   ],
   "source": [
    "len(reqs)"
   ]
  },
  {
   "cell_type": "markdown",
   "metadata": {},
   "source": [
    "### Using Scrapy with X-path to get the required information from the list of URL's"
   ]
  },
  {
   "cell_type": "code",
   "execution_count": 23,
   "metadata": {},
   "outputs": [],
   "source": [
    "data = []\n",
    "titles = []\n",
    "companies = []\n",
    "locations = []\n",
    "pays = []\n",
    "descriptions = []\n",
    "\n",
    "for r in reqs:\n",
    "    b = requests.get('https://www.seek.com.au' + str(r))\n",
    "    HTMLa = b.text\n",
    "    title = Selector(text=HTMLa).xpath('//*/section/div/span/span/h1/text()').extract()\n",
    "    if title is None:\n",
    "        title = 'NA'\n",
    "        titles.append(title)\n",
    "    else: \n",
    "        title = Selector(text=HTMLa).xpath('//*/section/div/span/span/h1/text()').extract() \n",
    "        titles.append(title)\n",
    "    \n",
    "    company = Selector(text=HTMLa).xpath('//*/h2/span[2]/span/text()').extract()\n",
    "    if company is None:\n",
    "        company = 'NA'\n",
    "        companies.append(company)\n",
    "    else: \n",
    "        company = Selector(text=HTMLa).xpath('//*/h2/span[2]/span/text()').extract() \n",
    "        companies.append(company)\n",
    "    \n",
    "    location = Selector(text=HTMLa).xpath('//*/aside/span/div[2]/div/section/dl/dd[2]/span/span/strong/text()').extract()\n",
    "    if location is None:\n",
    "        location = 'NA'\n",
    "        locations.append(location)\n",
    "    else: \n",
    "        location = Selector(text=HTMLa).xpath('//*/aside/span/div[2]/div/section/dl/dd[2]/span/span/strong/text()').extract() \n",
    "        locations.append(location)\n",
    "    \n",
    "    pay = Selector(text=HTMLa).xpath('//*/aside/span/div[2]/div/section/dl/div[1]/dd/span/span/text()').extract()\n",
    "    if pay is None:\n",
    "        pay = 'NA'\n",
    "        pays.append(pay)\n",
    "    else: \n",
    "        pay = Selector(text=HTMLa).xpath('//*/aside/span/div[2]/div/section/dl/div[1]/dd/span/span/text()').extract() \n",
    "        pays.append(pay)\n",
    "    \n",
    "    description = Selector(text=HTMLa).xpath('//*[@class=\"_2e4Pi2B\"]').xpath('string()').extract()\n",
    "    if description is None:\n",
    "        description = 'NA'\n",
    "        descriptions.append(description)\n",
    "    else: \n",
    "        description = Selector(text=HTMLa).xpath('//*[@class=\"_2e4Pi2B\"]').xpath('string()').extract() \n",
    "        descriptions.append(description)\n"
   ]
  },
  {
   "cell_type": "markdown",
   "metadata": {},
   "source": [
    "### Makes sure that we have the right amount of entries for each column scraped"
   ]
  },
  {
   "cell_type": "code",
   "execution_count": 25,
   "metadata": {},
   "outputs": [
    {
     "name": "stdout",
     "output_type": "stream",
     "text": [
      "588\n",
      "588\n",
      "588\n",
      "588\n",
      "588\n"
     ]
    }
   ],
   "source": [
    "print(len(titles))\n",
    "print(len(companies))\n",
    "print(len(locations))\n",
    "print(len(pays))\n",
    "print(len(descriptions))"
   ]
  },
  {
   "cell_type": "markdown",
   "metadata": {},
   "source": [
    "### Create a DataFrame from the sccraped information"
   ]
  },
  {
   "cell_type": "code",
   "execution_count": 26,
   "metadata": {},
   "outputs": [],
   "source": [
    "d = {'Title' : titles,'Company' : companies, 'Location' : locations, 'Pay' : pays, 'Description' : descriptions}"
   ]
  },
  {
   "cell_type": "code",
   "execution_count": 27,
   "metadata": {},
   "outputs": [],
   "source": [
    "df = pd.DataFrame(data=d)"
   ]
  },
  {
   "cell_type": "code",
   "execution_count": 28,
   "metadata": {},
   "outputs": [
    {
     "data": {
      "text/html": [
       "<div>\n",
       "<style scoped>\n",
       "    .dataframe tbody tr th:only-of-type {\n",
       "        vertical-align: middle;\n",
       "    }\n",
       "\n",
       "    .dataframe tbody tr th {\n",
       "        vertical-align: top;\n",
       "    }\n",
       "\n",
       "    .dataframe thead th {\n",
       "        text-align: right;\n",
       "    }\n",
       "</style>\n",
       "<table border=\"1\" class=\"dataframe\">\n",
       "  <thead>\n",
       "    <tr style=\"text-align: right;\">\n",
       "      <th></th>\n",
       "      <th>Title</th>\n",
       "      <th>Company</th>\n",
       "      <th>Location</th>\n",
       "      <th>Pay</th>\n",
       "      <th>Description</th>\n",
       "    </tr>\n",
       "  </thead>\n",
       "  <tbody>\n",
       "    <tr>\n",
       "      <th>0</th>\n",
       "      <td>[Reception/ Administration/High volume Invoici...</td>\n",
       "      <td>[BT Recruitment Pty Ltd]</td>\n",
       "      <td>[Melbourne]</td>\n",
       "      <td>[]</td>\n",
       "      <td>[&lt;div data-automation=\"mobileTemplate\" class=\"...</td>\n",
       "    </tr>\n",
       "    <tr>\n",
       "      <th>1</th>\n",
       "      <td>[Lead Data Architect]</td>\n",
       "      <td>[ME]</td>\n",
       "      <td>[Melbourne]</td>\n",
       "      <td>[]</td>\n",
       "      <td>[&lt;div data-automation=\"mobileTemplate\" class=\"...</td>\n",
       "    </tr>\n",
       "    <tr>\n",
       "      <th>2</th>\n",
       "      <td>[Data Analyst]</td>\n",
       "      <td>[Victoria University]</td>\n",
       "      <td>[Melbourne]</td>\n",
       "      <td>[]</td>\n",
       "      <td>[&lt;div data-automation=\"mobileTemplate\" class=\"...</td>\n",
       "    </tr>\n",
       "    <tr>\n",
       "      <th>3</th>\n",
       "      <td>[Data Wrangling Expert/Asset Performance Analyst]</td>\n",
       "      <td>[Peak Services]</td>\n",
       "      <td>[Melbourne]</td>\n",
       "      <td>[]</td>\n",
       "      <td>[&lt;div data-automation=\"mobileTemplate\" class=\"...</td>\n",
       "    </tr>\n",
       "    <tr>\n",
       "      <th>4</th>\n",
       "      <td>[Data Scientist / Data Analyst]</td>\n",
       "      <td>[Randstad - Technologies]</td>\n",
       "      <td>[Melbourne]</td>\n",
       "      <td>[]</td>\n",
       "      <td>[&lt;div data-automation=\"mobileTemplate\" class=\"...</td>\n",
       "    </tr>\n",
       "  </tbody>\n",
       "</table>\n",
       "</div>"
      ],
      "text/plain": [
       "                                               Title  \\\n",
       "0  [Reception/ Administration/High volume Invoici...   \n",
       "1                              [Lead Data Architect]   \n",
       "2                                     [Data Analyst]   \n",
       "3  [Data Wrangling Expert/Asset Performance Analyst]   \n",
       "4                    [Data Scientist / Data Analyst]   \n",
       "\n",
       "                     Company     Location Pay  \\\n",
       "0   [BT Recruitment Pty Ltd]  [Melbourne]  []   \n",
       "1                       [ME]  [Melbourne]  []   \n",
       "2      [Victoria University]  [Melbourne]  []   \n",
       "3            [Peak Services]  [Melbourne]  []   \n",
       "4  [Randstad - Technologies]  [Melbourne]  []   \n",
       "\n",
       "                                         Description  \n",
       "0  [<div data-automation=\"mobileTemplate\" class=\"...  \n",
       "1  [<div data-automation=\"mobileTemplate\" class=\"...  \n",
       "2  [<div data-automation=\"mobileTemplate\" class=\"...  \n",
       "3  [<div data-automation=\"mobileTemplate\" class=\"...  \n",
       "4  [<div data-automation=\"mobileTemplate\" class=\"...  "
      ]
     },
     "execution_count": 28,
     "metadata": {},
     "output_type": "execute_result"
    }
   ],
   "source": [
    "df.head()"
   ]
  },
  {
   "cell_type": "markdown",
   "metadata": {},
   "source": [
    "### Do the same for Sydney jobs"
   ]
  },
  {
   "cell_type": "code",
   "execution_count": 29,
   "metadata": {},
   "outputs": [],
   "source": [
    "reqs2 = []\n",
    "for c in range(2, 31):\n",
    "    r2 = requests.get('https://www.seek.com.au/Data-jobs/in-Sydney?page=' + str(c))\n",
    "    HTML2 = r2.text\n",
    "    urls2 = Selector(text=HTML2).xpath('//*/article/span[2]/span/h1/a/@href').extract()\n",
    "    reqs2.extend(urls2)  "
   ]
  },
  {
   "cell_type": "code",
   "execution_count": 30,
   "metadata": {},
   "outputs": [
    {
     "data": {
      "text/plain": [
       "595"
      ]
     },
     "execution_count": 30,
     "metadata": {},
     "output_type": "execute_result"
    }
   ],
   "source": [
    "len(reqs2)"
   ]
  },
  {
   "cell_type": "code",
   "execution_count": 31,
   "metadata": {},
   "outputs": [],
   "source": [
    "data2 = []\n",
    "titles2 = []\n",
    "companies2 = []\n",
    "locations2 = []\n",
    "pays2 = []\n",
    "descriptions2 = []\n",
    "\n",
    "for n in reqs2:\n",
    "    b2 = requests.get('https://www.seek.com.au' + str(n))\n",
    "    HTMLa2 = b2.text\n",
    "    title2 = Selector(text=HTMLa2).xpath('//*/section/div/span/span/h1/text()').extract()\n",
    "    if title2 is None:\n",
    "        title2 = 'NA'\n",
    "        titles2.append(title2)\n",
    "    else: \n",
    "        title2 = Selector(text=HTMLa2).xpath('//*/section/div/span/span/h1/text()').extract() \n",
    "        titles2.append(title2)\n",
    "    \n",
    "    company2 = Selector(text=HTMLa2).xpath('//*/h2/span[2]/span/text()').extract()\n",
    "    if company2 is None:\n",
    "        company2 = 'NA'\n",
    "        companies2.append(company2)\n",
    "    else: \n",
    "        company2 = Selector(text=HTMLa2).xpath('//*/h2/span[2]/span/text()').extract() \n",
    "        companies2.append(company2)\n",
    "    \n",
    "    location2 = Selector(text=HTMLa2).xpath('//*/aside/span/div[2]/div/section/dl/dd[2]/span/span/strong/text()').extract()\n",
    "    if location2 is None:\n",
    "        location2 = 'NA'\n",
    "        locations2.append(location2)\n",
    "    else: \n",
    "        location2 = Selector(text=HTMLa2).xpath('//*/aside/span/div[2]/div/section/dl/dd[2]/span/span/strong/text()').extract() \n",
    "        locations2.append(location2)\n",
    "    \n",
    "    pay2 = Selector(text=HTMLa2).xpath('//*/aside/span/div[2]/div/section/dl/div[1]/dd/span/span/text()').extract()\n",
    "    if pay2 is None:\n",
    "        pay2 = 'NA'\n",
    "        pays2.append(pay2)\n",
    "    else: \n",
    "        pay2 = Selector(text=HTMLa2).xpath('//*/aside/span/div[2]/div/section/dl/div[1]/dd/span/span/text()').extract() \n",
    "        pays2.append(pay2)\n",
    "    \n",
    "    description2 = Selector(text=HTMLa2).xpath('//*[@class=\"_2e4Pi2B\"]').extract()\n",
    "    if description2 is None:\n",
    "        description2 = 'NA'\n",
    "        descriptions2.append(description2)\n",
    "    else: \n",
    "        description2 = Selector(text=HTMLa2).xpath('//*[@class=\"_2e4Pi2B\"]').extract() \n",
    "        descriptions2.append(description2)\n",
    "    "
   ]
  },
  {
   "cell_type": "code",
   "execution_count": 33,
   "metadata": {},
   "outputs": [
    {
     "name": "stdout",
     "output_type": "stream",
     "text": [
      "595\n",
      "595\n",
      "595\n",
      "595\n",
      "595\n"
     ]
    }
   ],
   "source": [
    "print(len(titles2))\n",
    "print(len(companies2))\n",
    "print(len(locations2))\n",
    "print(len(pays2))\n",
    "print(len(descriptions2))"
   ]
  },
  {
   "cell_type": "code",
   "execution_count": 34,
   "metadata": {},
   "outputs": [],
   "source": [
    "d2 = {'Title' : titles2,'Company' : companies2, 'Location' : locations2, 'Pay' : pays2, 'Description' : descriptions2}"
   ]
  },
  {
   "cell_type": "code",
   "execution_count": 35,
   "metadata": {},
   "outputs": [],
   "source": [
    "df2 = pd.DataFrame(d2)"
   ]
  },
  {
   "cell_type": "code",
   "execution_count": 36,
   "metadata": {},
   "outputs": [
    {
     "data": {
      "text/html": [
       "<div>\n",
       "<style scoped>\n",
       "    .dataframe tbody tr th:only-of-type {\n",
       "        vertical-align: middle;\n",
       "    }\n",
       "\n",
       "    .dataframe tbody tr th {\n",
       "        vertical-align: top;\n",
       "    }\n",
       "\n",
       "    .dataframe thead th {\n",
       "        text-align: right;\n",
       "    }\n",
       "</style>\n",
       "<table border=\"1\" class=\"dataframe\">\n",
       "  <thead>\n",
       "    <tr style=\"text-align: right;\">\n",
       "      <th></th>\n",
       "      <th>Title</th>\n",
       "      <th>Company</th>\n",
       "      <th>Location</th>\n",
       "      <th>Pay</th>\n",
       "      <th>Description</th>\n",
       "    </tr>\n",
       "  </thead>\n",
       "  <tbody>\n",
       "    <tr>\n",
       "      <th>0</th>\n",
       "      <td>[Big Data Engineer]</td>\n",
       "      <td>[Servian]</td>\n",
       "      <td>[Sydney]</td>\n",
       "      <td>[Salary depends on skills and experience]</td>\n",
       "      <td>[&lt;div data-automation=\"mobileTemplate\" class=\"...</td>\n",
       "    </tr>\n",
       "    <tr>\n",
       "      <th>1</th>\n",
       "      <td>[Data Analyst (Digital)]</td>\n",
       "      <td>[Seventh Street Ventures]</td>\n",
       "      <td>[Sydney]</td>\n",
       "      <td>[$60,000 - $70,000 plus Super]</td>\n",
       "      <td>[&lt;div data-automation=\"mobileTemplate\" class=\"...</td>\n",
       "    </tr>\n",
       "    <tr>\n",
       "      <th>2</th>\n",
       "      <td>[Administration/Data Entry Clerk]</td>\n",
       "      <td>[Beaumont People]</td>\n",
       "      <td>[Sydney]</td>\n",
       "      <td>[]</td>\n",
       "      <td>[&lt;div data-automation=\"mobileTemplate\" class=\"...</td>\n",
       "    </tr>\n",
       "    <tr>\n",
       "      <th>3</th>\n",
       "      <td>[CRM Data Analyst]</td>\n",
       "      <td>[NGO Recruitment]</td>\n",
       "      <td>[Sydney]</td>\n",
       "      <td>[]</td>\n",
       "      <td>[&lt;div data-automation=\"mobileTemplate\" class=\"...</td>\n",
       "    </tr>\n",
       "    <tr>\n",
       "      <th>4</th>\n",
       "      <td>[Data Analyst]</td>\n",
       "      <td>[IPG Mediabrands]</td>\n",
       "      <td>[Sydney]</td>\n",
       "      <td>[$75,000 - $85,000 inclusive of super]</td>\n",
       "      <td>[&lt;div data-automation=\"mobileTemplate\" class=\"...</td>\n",
       "    </tr>\n",
       "  </tbody>\n",
       "</table>\n",
       "</div>"
      ],
      "text/plain": [
       "                               Title                    Company  Location  \\\n",
       "0                [Big Data Engineer]                  [Servian]  [Sydney]   \n",
       "1           [Data Analyst (Digital)]  [Seventh Street Ventures]  [Sydney]   \n",
       "2  [Administration/Data Entry Clerk]          [Beaumont People]  [Sydney]   \n",
       "3                 [CRM Data Analyst]          [NGO Recruitment]  [Sydney]   \n",
       "4                     [Data Analyst]          [IPG Mediabrands]  [Sydney]   \n",
       "\n",
       "                                         Pay  \\\n",
       "0  [Salary depends on skills and experience]   \n",
       "1             [$60,000 - $70,000 plus Super]   \n",
       "2                                         []   \n",
       "3                                         []   \n",
       "4     [$75,000 - $85,000 inclusive of super]   \n",
       "\n",
       "                                         Description  \n",
       "0  [<div data-automation=\"mobileTemplate\" class=\"...  \n",
       "1  [<div data-automation=\"mobileTemplate\" class=\"...  \n",
       "2  [<div data-automation=\"mobileTemplate\" class=\"...  \n",
       "3  [<div data-automation=\"mobileTemplate\" class=\"...  \n",
       "4  [<div data-automation=\"mobileTemplate\" class=\"...  "
      ]
     },
     "execution_count": 36,
     "metadata": {},
     "output_type": "execute_result"
    }
   ],
   "source": [
    "df2.head()"
   ]
  },
  {
   "cell_type": "markdown",
   "metadata": {},
   "source": [
    "### Join the data together and now we have a DataFrame of around 1200 jobs"
   ]
  },
  {
   "cell_type": "code",
   "execution_count": 37,
   "metadata": {},
   "outputs": [],
   "source": [
    "df_full = pd.concat([df, df2])"
   ]
  },
  {
   "cell_type": "code",
   "execution_count": 38,
   "metadata": {},
   "outputs": [
    {
     "data": {
      "text/html": [
       "<div>\n",
       "<style scoped>\n",
       "    .dataframe tbody tr th:only-of-type {\n",
       "        vertical-align: middle;\n",
       "    }\n",
       "\n",
       "    .dataframe tbody tr th {\n",
       "        vertical-align: top;\n",
       "    }\n",
       "\n",
       "    .dataframe thead th {\n",
       "        text-align: right;\n",
       "    }\n",
       "</style>\n",
       "<table border=\"1\" class=\"dataframe\">\n",
       "  <thead>\n",
       "    <tr style=\"text-align: right;\">\n",
       "      <th></th>\n",
       "      <th>Title</th>\n",
       "      <th>Company</th>\n",
       "      <th>Location</th>\n",
       "      <th>Pay</th>\n",
       "      <th>Description</th>\n",
       "    </tr>\n",
       "  </thead>\n",
       "  <tbody>\n",
       "    <tr>\n",
       "      <th>count</th>\n",
       "      <td>1183</td>\n",
       "      <td>1183</td>\n",
       "      <td>1183</td>\n",
       "      <td>1183</td>\n",
       "      <td>1183</td>\n",
       "    </tr>\n",
       "    <tr>\n",
       "      <th>unique</th>\n",
       "      <td>758</td>\n",
       "      <td>494</td>\n",
       "      <td>2</td>\n",
       "      <td>302</td>\n",
       "      <td>969</td>\n",
       "    </tr>\n",
       "    <tr>\n",
       "      <th>top</th>\n",
       "      <td>[Data Analyst]</td>\n",
       "      <td>[Talent – Winner ‘Seek Large Recruitment Agenc...</td>\n",
       "      <td>[Sydney]</td>\n",
       "      <td>[]</td>\n",
       "      <td>[&lt;div data-automation=\"mobileTemplate\" class=\"...</td>\n",
       "    </tr>\n",
       "    <tr>\n",
       "      <th>freq</th>\n",
       "      <td>51</td>\n",
       "      <td>31</td>\n",
       "      <td>595</td>\n",
       "      <td>779</td>\n",
       "      <td>4</td>\n",
       "    </tr>\n",
       "  </tbody>\n",
       "</table>\n",
       "</div>"
      ],
      "text/plain": [
       "                 Title                                            Company  \\\n",
       "count             1183                                               1183   \n",
       "unique             758                                                494   \n",
       "top     [Data Analyst]  [Talent – Winner ‘Seek Large Recruitment Agenc...   \n",
       "freq                51                                                 31   \n",
       "\n",
       "        Location   Pay                                        Description  \n",
       "count       1183  1183                                               1183  \n",
       "unique         2   302                                                969  \n",
       "top     [Sydney]    []  [<div data-automation=\"mobileTemplate\" class=\"...  \n",
       "freq         595   779                                                  4  "
      ]
     },
     "execution_count": 38,
     "metadata": {},
     "output_type": "execute_result"
    }
   ],
   "source": [
    "df_full.describe()"
   ]
  },
  {
   "cell_type": "code",
   "execution_count": 39,
   "metadata": {},
   "outputs": [],
   "source": [
    "df_full.to_csv('df_full.csv', index=False)"
   ]
  },
  {
   "cell_type": "code",
   "execution_count": null,
   "metadata": {},
   "outputs": [],
   "source": []
  }
 ],
 "metadata": {
  "kernelspec": {
   "display_name": "Python 3",
   "language": "python",
   "name": "python3"
  },
  "language_info": {
   "codemirror_mode": {
    "name": "ipython",
    "version": 3
   },
   "file_extension": ".py",
   "mimetype": "text/x-python",
   "name": "python",
   "nbconvert_exporter": "python",
   "pygments_lexer": "ipython3",
   "version": "3.7.1"
  }
 },
 "nbformat": 4,
 "nbformat_minor": 2
}
